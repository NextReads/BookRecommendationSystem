{
 "cells": [
  {
   "cell_type": "markdown",
   "metadata": {},
   "source": []
  },
  {
   "cell_type": "code",
   "execution_count": 4,
   "metadata": {},
   "outputs": [
    {
     "name": "stdout",
     "output_type": "stream",
     "text": [
      "The autoreload extension is already loaded. To reload it, use:\n",
      "  %reload_ext autoreload\n"
     ]
    }
   ],
   "source": [
    "# import pickle\n",
    "import featureExtraction as fe\n",
    "%load_ext autoreload\n",
    "%autoreload 2\n"
   ]
  },
  {
   "cell_type": "code",
   "execution_count": 5,
   "metadata": {},
   "outputs": [],
   "source": [
    "import pandas as pd\n",
    "def readData():\n",
    "    df = pd.read_csv('../DataProcessing/dataset/goodreads_reviews_shrink.csv',header=0,usecols=['review_text','book_id'])\n",
    "    df.head()\n",
    "    return df"
   ]
  },
  {
   "cell_type": "code",
   "execution_count": 6,
   "metadata": {},
   "outputs": [],
   "source": [
    "def getProductSentiment(data,book,clflinear,tfidf_vectorizer):\n",
    "    # get book review_text\n",
    "    text=data[data['book_id']==book]['review_text'].values[0]\n",
    "    tfidf_test=tfidf_vectorizer.transform([text])\n",
    "    # clflinear = fe.load_model('svm_linear_model.sav')\n",
    "    return clflinear.predict(tfidf_test).mean()\n",
    "    # return predictionslinear[0]"
   ]
  },
  {
   "cell_type": "code",
   "execution_count": 7,
   "metadata": {},
   "outputs": [],
   "source": [
    "df= readData()\n"
   ]
  },
  {
   "cell_type": "code",
   "execution_count": 9,
   "metadata": {},
   "outputs": [
    {
     "name": "stdout",
     "output_type": "stream",
     "text": [
      "1.0\n"
     ]
    }
   ],
   "source": [
    "print(getProductSentiment(df,15729539))"
   ]
  },
  {
   "cell_type": "code",
   "execution_count": null,
   "metadata": {},
   "outputs": [],
   "source": [
    "def sentimentScore(data,predictons):\n",
    "    clflinear = fe.load_model('svm_linear_model.sav')\n",
    "    tfidf_vectorizer = fe.load_model('tfidf_vectorizer.sav')\n",
    "    sentimentScores={}\n",
    "    for book in predictons.keys():\n",
    "        ss=getProductSentiment(data,book,clflinear,tfidf_vectorizer)\n",
    "        sentimentScores[book]=ss\n",
    "    return sentimentScores"
   ]
  }
 ],
 "metadata": {
  "kernelspec": {
   "display_name": "Python 3",
   "language": "python",
   "name": "python3"
  },
  "language_info": {
   "codemirror_mode": {
    "name": "ipython",
    "version": 3
   },
   "file_extension": ".py",
   "mimetype": "text/x-python",
   "name": "python",
   "nbconvert_exporter": "python",
   "pygments_lexer": "ipython3",
   "version": "3.10.2"
  },
  "orig_nbformat": 4,
  "vscode": {
   "interpreter": {
    "hash": "8c87721c5757db7cc61ee59d185531b6776964227605f8e37124f7ce37b2c54c"
   }
  }
 },
 "nbformat": 4,
 "nbformat_minor": 2
}
