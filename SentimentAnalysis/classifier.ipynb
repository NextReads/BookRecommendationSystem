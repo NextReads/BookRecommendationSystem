{
 "cells": [
  {
   "attachments": {},
   "cell_type": "markdown",
   "metadata": {},
   "source": [
    "Sentiment Analysis Classifier"
   ]
  },
  {
   "cell_type": "code",
   "execution_count": 2,
   "metadata": {},
   "outputs": [
    {
     "name": "stdout",
     "output_type": "stream",
     "text": [
      "The autoreload extension is already loaded. To reload it, use:\n",
      "  %reload_ext autoreload\n"
     ]
    }
   ],
   "source": [
    "# import pickle\n",
    "import featureExtraction as fe\n",
    "%load_ext autoreload\n",
    "%autoreload 2\n"
   ]
  },
  {
   "cell_type": "code",
   "execution_count": 3,
   "metadata": {},
   "outputs": [],
   "source": [
    "import pandas as pd\n",
    "def readData():\n",
    "    df = pd.read_csv('../dataset/goodreads_reviews_shrink.csv',header=0,usecols=['review_text','book_id'])\n",
    "    df.head()\n",
    "    return df"
   ]
  },
  {
   "cell_type": "code",
   "execution_count": 63,
   "metadata": {},
   "outputs": [
    {
     "name": "stderr",
     "output_type": "stream",
     "text": [
      "[nltk_data] Downloading package stopwords to\n",
      "[nltk_data]     C:\\Users\\nadou\\AppData\\Roaming\\nltk_data...\n",
      "[nltk_data]   Package stopwords is already up-to-date!\n",
      "[nltk_data] Downloading package wordnet to\n",
      "[nltk_data]     C:\\Users\\nadou\\AppData\\Roaming\\nltk_data...\n",
      "[nltk_data]   Package wordnet is already up-to-date!\n",
      "[nltk_data] Downloading package averaged_perceptron_tagger to\n",
      "[nltk_data]     C:\\Users\\nadou\\AppData\\Roaming\\nltk_data...\n",
      "[nltk_data]   Package averaged_perceptron_tagger is already up-to-\n",
      "[nltk_data]       date!\n",
      "[nltk_data] Downloading package omw-1.4 to\n",
      "[nltk_data]     C:\\Users\\nadou\\AppData\\Roaming\\nltk_data...\n",
      "[nltk_data]   Package omw-1.4 is already up-to-date!\n",
      "[nltk_data] Downloading package punkt to\n",
      "[nltk_data]     C:\\Users\\nadou\\AppData\\Roaming\\nltk_data...\n",
      "[nltk_data]   Package punkt is already up-to-date!\n"
     ]
    }
   ],
   "source": [
    "from preprocessing import preprocessing\n",
    "def getProductSentiment(data,book,clflinear,tfidf_vectorizer):\n",
    "    # get book review_text\n",
    "    text=data[data['book_id']==book]\n",
    "    # print(text)\n",
    "    text=preprocessing(text)\n",
    "    # print(text)\n",
    "    tfidf_test=tfidf_vectorizer.transform(text['review_text'])\n",
    "    # print(\"tfidf\",tfidf_test)\n",
    "    # clflinear = fe.load_model('svm_linear_model.sav')\n",
    "    predictions=clflinear.predict(tfidf_test)\n",
    "    # print(\"predictions\",predictions)\n",
    "    mean=predictions.mean()\n",
    "    # print(\"mean\",mean)\n",
    "    return mean "
   ]
  },
  {
   "cell_type": "code",
   "execution_count": 74,
   "metadata": {},
   "outputs": [],
   "source": [
    "from preprocessing import preprocessing\n",
    "def getProductsSentiment(data,books,clflinear,tfidf_vectorizer):\n",
    "    # get specific books review_text\n",
    "    text=data[data['book_id'].isin(books)]\n",
    "    # text=data[data['book_id']==book]\n",
    "    # print(text)\n",
    "    text=preprocessing(text)\n",
    "    # print(text)\n",
    "    text['review_text']=text['review_text'].apply(lambda x:str(x))\n",
    "    tfidf_test=tfidf_vectorizer.transform(text['review_text'])\n",
    "    # print(\"tfidf\",tfidf_test)\n",
    "    # clflinear = fe.load_model('svm_linear_model.sav')\n",
    "    predictions=clflinear.predict(tfidf_test)\n",
    "    # print(\"predictions\",predictions)\n",
    "    # mean=predictions.mean()\n",
    "    # get mean predictions for each book\n",
    "    mean={}\n",
    "    for book in books:\n",
    "        mean[book]=predictions[text['book_id']==book].mean()\n",
    "    print(\"mean\",mean)\n",
    "    return mean "
   ]
  },
  {
   "cell_type": "code",
   "execution_count": 5,
   "metadata": {},
   "outputs": [],
   "source": [
    "df= readData()\n"
   ]
  },
  {
   "cell_type": "code",
   "execution_count": 64,
   "metadata": {},
   "outputs": [
    {
     "name": "stderr",
     "output_type": "stream",
     "text": [
      "d:\\CCE\\5- Fifth Year\\Graduation Project\\Graduation Project\\SentimentAnalysis\\preprocessing.py:179: SettingWithCopyWarning: \n",
      "A value is trying to be set on a copy of a slice from a DataFrame.\n",
      "Try using .loc[row_indexer,col_indexer] = value instead\n",
      "\n",
      "See the caveats in the documentation: https://pandas.pydata.org/pandas-docs/stable/user_guide/indexing.html#returning-a-view-versus-a-copy\n",
      "  data['review_text']=data['review_text'].apply(pos_tagging)\n",
      "d:\\CCE\\5- Fifth Year\\Graduation Project\\Graduation Project\\SentimentAnalysis\\preprocessing.py:180: SettingWithCopyWarning: \n",
      "A value is trying to be set on a copy of a slice from a DataFrame.\n",
      "Try using .loc[row_indexer,col_indexer] = value instead\n",
      "\n",
      "See the caveats in the documentation: https://pandas.pydata.org/pandas-docs/stable/user_guide/indexing.html#returning-a-view-versus-a-copy\n",
      "  # print(data['review_text'][0])\n",
      "d:\\CCE\\5- Fifth Year\\Graduation Project\\Graduation Project\\SentimentAnalysis\\preprocessing.py:182: SettingWithCopyWarning: \n",
      "A value is trying to be set on a copy of a slice from a DataFrame.\n",
      "Try using .loc[row_indexer,col_indexer] = value instead\n",
      "\n",
      "See the caveats in the documentation: https://pandas.pydata.org/pandas-docs/stable/user_guide/indexing.html#returning-a-view-versus-a-copy\n",
      "  data['review_text']=data['review_text'].apply(TagNounremoval)\n"
     ]
    },
    {
     "name": "stdout",
     "output_type": "stream",
     "text": [
      "0.7637795275590551\n"
     ]
    },
    {
     "name": "stderr",
     "output_type": "stream",
     "text": [
      "d:\\CCE\\5- Fifth Year\\Graduation Project\\Graduation Project\\SentimentAnalysis\\preprocessing.py:184: SettingWithCopyWarning: \n",
      "A value is trying to be set on a copy of a slice from a DataFrame.\n",
      "Try using .loc[row_indexer,col_indexer] = value instead\n",
      "\n",
      "See the caveats in the documentation: https://pandas.pydata.org/pandas-docs/stable/user_guide/indexing.html#returning-a-view-versus-a-copy\n",
      "  data['review_text']=data['review_text'].apply(lemmatize)\n",
      "d:\\CCE\\5- Fifth Year\\Graduation Project\\Graduation Project\\SentimentAnalysis\\preprocessing.py:187: SettingWithCopyWarning: \n",
      "A value is trying to be set on a copy of a slice from a DataFrame.\n",
      "Try using .loc[row_indexer,col_indexer] = value instead\n",
      "\n",
      "See the caveats in the documentation: https://pandas.pydata.org/pandas-docs/stable/user_guide/indexing.html#returning-a-view-versus-a-copy\n",
      "  # print(\"pos tag removal is complete\")\n",
      "d:\\CCE\\5- Fifth Year\\Graduation Project\\Graduation Project\\SentimentAnalysis\\preprocessing.py:189: SettingWithCopyWarning: \n",
      "A value is trying to be set on a copy of a slice from a DataFrame.\n",
      "Try using .loc[row_indexer,col_indexer] = value instead\n",
      "\n",
      "See the caveats in the documentation: https://pandas.pydata.org/pandas-docs/stable/user_guide/indexing.html#returning-a-view-versus-a-copy\n",
      "  data['review_text']=data['review_text'].apply(sentMerge)\n",
      "d:\\CCE\\5- Fifth Year\\Graduation Project\\Graduation Project\\SentimentAnalysis\\preprocessing.py:191: SettingWithCopyWarning: \n",
      "A value is trying to be set on a copy of a slice from a DataFrame.\n",
      "Try using .loc[row_indexer,col_indexer] = value instead\n",
      "\n",
      "See the caveats in the documentation: https://pandas.pydata.org/pandas-docs/stable/user_guide/indexing.html#returning-a-view-versus-a-copy\n",
      "  # print(data['review_text'][0])\n",
      "d:\\CCE\\5- Fifth Year\\Graduation Project\\Graduation Project\\SentimentAnalysis\\preprocessing.py:194: SettingWithCopyWarning: \n",
      "A value is trying to be set on a copy of a slice from a DataFrame.\n",
      "Try using .loc[row_indexer,col_indexer] = value instead\n",
      "\n",
      "See the caveats in the documentation: https://pandas.pydata.org/pandas-docs/stable/user_guide/indexing.html#returning-a-view-versus-a-copy\n",
      "  data['review_text']=data['review_text'].apply(reviewMerge)\n",
      "d:\\CCE\\5- Fifth Year\\Graduation Project\\Graduation Project\\SentimentAnalysis\\preprocessing.py:197: SettingWithCopyWarning: \n",
      "A value is trying to be set on a copy of a slice from a DataFrame.\n",
      "Try using .loc[row_indexer,col_indexer] = value instead\n",
      "\n",
      "See the caveats in the documentation: https://pandas.pydata.org/pandas-docs/stable/user_guide/indexing.html#returning-a-view-versus-a-copy\n",
      "  return data\n",
      "d:\\CCE\\5- Fifth Year\\Graduation Project\\Graduation Project\\SentimentAnalysis\\preprocessing.py:199: SettingWithCopyWarning: \n",
      "A value is trying to be set on a copy of a slice from a DataFrame.\n",
      "Try using .loc[row_indexer,col_indexer] = value instead\n",
      "\n",
      "See the caveats in the documentation: https://pandas.pydata.org/pandas-docs/stable/user_guide/indexing.html#returning-a-view-versus-a-copy\n"
     ]
    }
   ],
   "source": [
    "clflinear = fe.load_model('svm_linear_model.sav')\n",
    "tfidf_vectorizer = fe.load_model('tfidf.pkl')\n",
    "print(getProductSentiment(df,17378508,clflinear,tfidf_vectorizer))"
   ]
  },
  {
   "cell_type": "code",
   "execution_count": 65,
   "metadata": {},
   "outputs": [
    {
     "name": "stdout",
     "output_type": "stream",
     "text": [
      "8664353\n",
      "6314763\n",
      "21996\n",
      "17378508\n",
      "18710190\n",
      "15797938\n",
      "18293427\n",
      "22489107\n",
      "24612118\n",
      "17347389\n",
      "17378527\n",
      "{8664353: 0.8686131386861314, 6314763: 0.5447761194029851, 21996: 0.7901234567901234, 17378508: 0.7637795275590551, 18710190: 0.4449877750611247, 15797938: 0.5104895104895105, 18293427: 0.7630331753554502, 22489107: 0.6131386861313869, 24612118: 0.5073529411764706, 17347389: 0.777027027027027, 17378527: 0.6842105263157895}\n"
     ]
    }
   ],
   "source": [
    "# books={8664353: 2.943921978404737, 6314763: 3.443921978404737, 21996: 2.778672837842172, 17378508: 3.319115269022083, 18710190: 2.943921978404737, 15797938: 2.9439219784047372, 18293427: 3.9439219784047372, 22489107: 2.77732264321156, 24612118: 2.9439219784047372, 17347389: 3.4439219784047372, 17378527: 3.321349343769989}\n",
    "def sentimentScore(data,predictons):\n",
    "    clflinear = fe.load_model('svm_linear_model.sav')\n",
    "    tfidf_vectorizer = fe.load_model('tfidf.pkl')\n",
    "    sentimentScores={}\n",
    "    for book in predictons.keys():\n",
    "        print(book)\n",
    "        ss=getProductSentiment(data,book,clflinear,tfidf_vectorizer)\n",
    "        sentimentScores[book]=ss\n",
    "    return sentimentScores\n",
    "# print(sentimentScore(df,books))"
   ]
  },
  {
   "cell_type": "code",
   "execution_count": 75,
   "metadata": {},
   "outputs": [
    {
     "name": "stderr",
     "output_type": "stream",
     "text": [
      "C:\\Users\\nadou\\AppData\\Local\\Temp\\ipykernel_33400\\3564182831.py:9: SettingWithCopyWarning: \n",
      "A value is trying to be set on a copy of a slice from a DataFrame.\n",
      "Try using .loc[row_indexer,col_indexer] = value instead\n",
      "\n",
      "See the caveats in the documentation: https://pandas.pydata.org/pandas-docs/stable/user_guide/indexing.html#returning-a-view-versus-a-copy\n",
      "  text['review_text']=text['review_text'].apply(lambda x:str(x))\n"
     ]
    },
    {
     "name": "stdout",
     "output_type": "stream",
     "text": [
      "mean {8664353: 0.6131386861313869, 6314763: 0.31343283582089554, 21996: 0.3950617283950617, 17378508: 0.5118110236220472, 18710190: 0.1980440097799511, 15797938: 0.2517482517482518, 18293427: 0.5734597156398105, 22489107: 0.2846715328467153, 24612118: 0.13970588235294118, 17347389: 0.5945945945945946, 17378527: 0.45614035087719296}\n"
     ]
    }
   ],
   "source": [
    "# books={8664353: 2.943921978404737, 6314763: 3.443921978404737, 21996: 2.778672837842172, 17378508: 3.319115269022083, 18710190: 2.943921978404737, 15797938: 2.9439219784047372, 18293427: 3.9439219784047372, 22489107: 2.77732264321156, 24612118: 2.9439219784047372, 17347389: 3.4439219784047372, 17378527: 3.321349343769989}\n",
    "def sentimentScore(data,predictions):\n",
    "    clflinear = fe.load_model('svm_linear_model.sav')\n",
    "    tfidf_vectorizer = fe.load_model('tfidf.pkl')\n",
    "    sentimentScores=getProductsSentiment(data,predictions,clflinear,tfidf_vectorizer)\n",
    "    return sentimentScores\n",
    "# ss=sentimentScore(df,books)"
   ]
  }
 ],
 "metadata": {
  "kernelspec": {
   "display_name": "base",
   "language": "python",
   "name": "python3"
  },
  "language_info": {
   "codemirror_mode": {
    "name": "ipython",
    "version": 3
   },
   "file_extension": ".py",
   "mimetype": "text/x-python",
   "name": "python",
   "nbconvert_exporter": "python",
   "pygments_lexer": "ipython3",
   "version": "3.9.13"
  },
  "orig_nbformat": 4,
  "vscode": {
   "interpreter": {
    "hash": "1e732d54d3afb58aaaf68d79121a18d7e534fb83a7a87b6bc6fe78fcf4e98b3b"
   }
  }
 },
 "nbformat": 4,
 "nbformat_minor": 2
}
