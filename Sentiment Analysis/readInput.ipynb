{
 "cells": [
  {
   "cell_type": "code",
   "execution_count": 1,
   "metadata": {},
   "outputs": [],
   "source": [
    "import pandas as pd\n",
    "def readData():\n",
    "    df = pd.read_csv('../dataset/goodreads_reviews_shrink.csv',header=0,usecols=['review_text','rating'])\n",
    "    df.head()\n",
    "    \n",
    "    return df"
   ]
  },
  {
   "cell_type": "code",
   "execution_count": 5,
   "metadata": {},
   "outputs": [],
   "source": [
    "def datapreprocessing(data):\n",
    "    # remove rows with rating 0 (not rated)\n",
    "    data = data[data['rating'] != 0]\n",
    "    data = data[data['rating'] != 3]\n",
    "    # df.shape\n",
    "\n",
    "    # plotHIST(df, \"rating\",\"Rating\", \"Count\", \"Rating Distribution\")\n",
    "    # data['rating'].value_counts()\n",
    "    data['sentiment'] = data['rating'].apply(lambda x: 1 if x > 3 else 0)\n",
    "    data = data.drop(['rating'], axis=1)\n",
    "    data = data.dropna()\n",
    "    return data\n"
   ]
  },
  {
   "cell_type": "code",
   "execution_count": 3,
   "metadata": {},
   "outputs": [],
   "source": [
    "df=readData()\n"
   ]
  },
  {
   "cell_type": "code",
   "execution_count": 6,
   "metadata": {},
   "outputs": [
    {
     "name": "stdout",
     "output_type": "stream",
     "text": [
      "(770108, 2)\n",
      "                                         review_text  sentiment\n",
      "0  Mind blowingly cool. Best science fiction I've...          1\n",
      "1  This is a special book. It started slow for ab...          1\n",
      "3  Fun, fast paced, and disturbing tale of murder...          1\n",
      "4  A fun book that gives you a sense of living in...          1\n",
      "6  Giving a high rating because I heard the organ...          1\n"
     ]
    }
   ],
   "source": [
    "df=datapreprocessing(df)\n",
    "print(df.shape)\n",
    "print(df.head())"
   ]
  }
 ],
 "metadata": {
  "kernelspec": {
   "display_name": "base",
   "language": "python",
   "name": "python3"
  },
  "language_info": {
   "codemirror_mode": {
    "name": "ipython",
    "version": 3
   },
   "file_extension": ".py",
   "mimetype": "text/x-python",
   "name": "python",
   "nbconvert_exporter": "python",
   "pygments_lexer": "ipython3",
   "version": "3.9.13"
  },
  "orig_nbformat": 4,
  "vscode": {
   "interpreter": {
    "hash": "1e732d54d3afb58aaaf68d79121a18d7e534fb83a7a87b6bc6fe78fcf4e98b3b"
   }
  }
 },
 "nbformat": 4,
 "nbformat_minor": 2
}
