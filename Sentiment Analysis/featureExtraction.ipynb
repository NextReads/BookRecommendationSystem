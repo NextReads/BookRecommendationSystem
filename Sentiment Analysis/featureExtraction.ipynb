{
 "cells": [
  {
   "cell_type": "code",
   "execution_count": null,
   "metadata": {},
   "outputs": [],
   "source": [
    "from sklearn.model_selection import train_test_split\n",
    "def dataSplit(df):\n",
    "    #Splitting the data into train and test\n",
    "    X_train,X_test,Y_train, Y_test = train_test_split(df['review'], df['sentiment'], test_size=0.25, random_state=30)\n",
    "    print(\"Train: \",X_train.shape,Y_train.shape,\"Test: \",(X_test.shape,Y_test.shape))\n",
    "    return X_train,X_test,Y_train, Y_test\n",
    "    "
   ]
  },
  {
   "cell_type": "code",
   "execution_count": null,
   "metadata": {},
   "outputs": [],
   "source": [
    "# save and load model\n",
    "import pickle\n",
    "import os\n",
    "def save_model(classifier, path: str):\n",
    "    rPath='models/'+path\n",
    "    pickle.dump(classifier, open(rPath, 'wb'))\n",
    "\n",
    "def load_model(path: str):\n",
    "    rPath='models/'+path\n",
    "    if not os.path.exists(rPath):\n",
    "        raise Exception('Model not found')\n",
    "    return pickle.load(open(rPath, 'rb'))"
   ]
  },
  {
   "cell_type": "code",
   "execution_count": null,
   "metadata": {},
   "outputs": [],
   "source": [
    "from sklearn.feature_extraction.text import TfidfVectorizer\n",
    "def featureExtractionTFIDF(X_train,X_test):\n",
    "    #Feature Extraction using TF-IDF\n",
    "    print(\"TFIDF Vectorizer……\")\n",
    "    tfidf = TfidfVectorizer(min_df=0.0, max_df=1.0, ngram_range=(1,2),use_idf=True, smooth_idf=True, sublinear_tf=True)\n",
    "    save_model(tfidf, 'tfidf.pkl')\n",
    "    tf_x_train = tfidf.fit_transform(X_train)\n",
    "    tf_x_test = tfidf.transform(X_test)\n",
    "    print (tf_x_train.shape, tf_x_test.shape)\n",
    "    return tf_x_train, tf_x_test"
   ]
  },
  {
   "cell_type": "code",
   "execution_count": null,
   "metadata": {},
   "outputs": [],
   "source": []
  },
  {
   "cell_type": "code",
   "execution_count": null,
   "metadata": {},
   "outputs": [],
   "source": [
    "import sklearn.metrics as metrics\n",
    "from sklearn.metrics import classification_report,confusion_matrix\n",
    "def printResultsStatistics(predictions,Y_test):\n",
    "    classificationReport=classification_report(Y_test, predictions, target_names=[0, 1])\n",
    "    CMatrix=confusion_matrix(Y_test, predictions, labels=[0, 1])\n",
    "\n",
    "    print(\"Confusion matrix:\")\n",
    "    print(\"\\t\\tpositive\\tnegative\")\n",
    "    print(\"positive\\t\",CMatrix[0][0],\"\\t\\t\",CMatrix[0][1])\n",
    "    print(\"negative\\t\",CMatrix[1][0],\"\\t\\t\",CMatrix[1][1])\n",
    "    print(\"TP:\",CMatrix[0][0],\"\\tFP:\",CMatrix[0][1])\n",
    "    print(\"FN:\",CMatrix[1][0],\"\\tTN:\",CMatrix[1][1])\n",
    "    \n",
    "    print(\"Accuracy:\",metrics.accuracy_score(Y_test, predictions))\n",
    "    print(\"Classification Report:\")\n",
    "    print(classificationReport)"
   ]
  },
  {
   "cell_type": "code",
   "execution_count": null,
   "metadata": {},
   "outputs": [],
   "source": [
    "from sklearn.svm import LinearSVC\n",
    "\n",
    "def linearSVMtrain(tf_x_train,Y_train):\n",
    "    #train model\n",
    "    clflinear = LinearSVC(random_state=0)\n",
    "    clflinear.fit(tf_x_train, Y_train)\n",
    "    save_model(clflinear,'svm_linear_model.sav')\n",
    "\n",
    "    return clflinear\n",
    "    \n",
    "    #evaluation\n",
    "\n",
    "def linearSVMtest(clflinear,tf_x_test,Y_test):\n",
    "    load_model('svm_linear_model.sav')\n",
    "    predictionslinear = clflinear.predict(tf_x_test)\n",
    "    printResultsStatistics(predictionslinear,Y_test)\n",
    "    return predictionslinear\n"
   ]
  },
  {
   "cell_type": "code",
   "execution_count": null,
   "metadata": {},
   "outputs": [],
   "source": [
    "from sklearn.svm import SVC\n",
    "def polySVMtrain(tf_x_train,Y_train):\n",
    "    #train model\n",
    "    clfpoly = SVC(kernel='poly')\n",
    "    clfpoly.fit(tf_x_train, Y_train)\n",
    "    save_model(clfpoly,'svm_poly_model.sav')\n",
    "    return clfpoly\n",
    "    \n",
    "    #evaluation\n",
    "\n",
    "def polySVMtest(clfpoly,tf_x_test,Y_test):\n",
    "    load_model('svm_poly_model.sav')\n",
    "    predictionspoly = clfpoly.predict(tf_x_test)\n",
    "    printResultsStatistics(predictionspoly,Y_test)\n",
    "    return predictionspoly"
   ]
  },
  {
   "cell_type": "code",
   "execution_count": null,
   "metadata": {},
   "outputs": [],
   "source": [
    "def rbfSVMtrain(tf_x_train,Y_train):\n",
    "    #train model\n",
    "    clfrbf = SVC(kernel='rbf')\n",
    "    clfrbf.fit(tf_x_train, Y_train)\n",
    "    save_model(clfrbf,'svm_rbf_model.sav')\n",
    "\n",
    "    return clfrbf\n",
    "    \n",
    "    #evaluation\n",
    "\n",
    "def rbfSVMtest(clfrbf,tf_x_test,Y_test):\n",
    "    load_model('svm_rbf_model.sav')\n",
    "    predictionsrbf = clfrbf.predict(tf_x_test)\n",
    "    printResultsStatistics(predictionsrbf,Y_test)\n",
    "    return predictionsrbf\n",
    "\n",
    "\n"
   ]
  },
  {
   "cell_type": "code",
   "execution_count": null,
   "metadata": {},
   "outputs": [],
   "source": [
    "# def dataSelection(data):\n",
    "#     x=data['Review']\n",
    "#     y=data['user_sentiment']\n",
    "#     print(\"Checking distribution of +ve and -ve review sentiment: \\n{}\".format(y.value_counts(normalize=True)))\n",
    "#     # Split the dataset into test and train\n",
    "#     X_train, X_test, y_train, y_test = train_test_split(x, y, test_size=0.3, random_state=50)\n",
    "\n",
    "#     #As we saw above that data is imbalanced, balance training data using over sampling\n",
    "\n",
    "#     ros = over_sampling.RandomOverSampler(random_state=0)\n",
    "#     X_train, y_train = ros.fit_resample(pd.DataFrame(X_train), pd.Series(y_train))\n",
    "#     print(\"Checking distribution of +ve and -ve review sentiment after oversampling: \\n{}\".format(y_train.value_counts(normalize=True)))\n",
    "#     #convert into list of string\n",
    "#     X_train = X_train['Review'].tolist()"
   ]
  },
  {
   "cell_type": "code",
   "execution_count": null,
   "metadata": {},
   "outputs": [],
   "source": []
  }
 ],
 "metadata": {
  "kernelspec": {
   "display_name": "base",
   "language": "python",
   "name": "python3"
  },
  "language_info": {
   "name": "python",
   "version": "3.9.13"
  },
  "orig_nbformat": 4,
  "vscode": {
   "interpreter": {
    "hash": "1e732d54d3afb58aaaf68d79121a18d7e534fb83a7a87b6bc6fe78fcf4e98b3b"
   }
  }
 },
 "nbformat": 4,
 "nbformat_minor": 2
}
