{
 "cells": [
  {
   "cell_type": "code",
   "execution_count": 23,
   "metadata": {},
   "outputs": [],
   "source": [
    "from pyspark.sql.functions import col, size, split, when, concat_ws, substring\n",
    "from pyspark.sql.types import StructType, StructField, StringType, IntegerType\n",
    "from pyspark.sql import SparkSession\n",
    "import pandas as pd\n",
    "import time\n"
   ]
  },
  {
   "cell_type": "code",
   "execution_count": 15,
   "metadata": {},
   "outputs": [],
   "source": [
    "json_path = 'C:/Files/College/GP/UCSDBooks/Downloads/goodreads_reviews_dedup.json'\n",
    "csv_path = '../preprocessed_original/reviewsFull.csv'\n",
    "bookidsPath = '../preprocessed_original/book_ids.csv'\n",
    "authorsPath = 'C:/Files/College/GP/UCSDBooks/Books/goodreads_book_authors.json'\n",
    "\n",
    "columns = ['book_id', 'user_id', 'rating']\n",
    "json_data = []"
   ]
  },
  {
   "cell_type": "code",
   "execution_count": 16,
   "metadata": {},
   "outputs": [
    {
     "data": {
      "text/html": [
       "\n",
       "            <div>\n",
       "                <p><b>SparkSession - in-memory</b></p>\n",
       "                \n",
       "        <div>\n",
       "            <p><b>SparkContext</b></p>\n",
       "\n",
       "            <p><a href=\"http://host.docker.internal:4040\">Spark UI</a></p>\n",
       "\n",
       "            <dl>\n",
       "              <dt>Version</dt>\n",
       "                <dd><code>v3.4.0</code></dd>\n",
       "              <dt>Master</dt>\n",
       "                <dd><code>local[*]</code></dd>\n",
       "              <dt>AppName</dt>\n",
       "                <dd><code>Read JSON</code></dd>\n",
       "            </dl>\n",
       "        </div>\n",
       "        \n",
       "            </div>\n",
       "        "
      ],
      "text/plain": [
       "<pyspark.sql.session.SparkSession at 0x20b60cb33d0>"
      ]
     },
     "execution_count": 16,
     "metadata": {},
     "output_type": "execute_result"
    }
   ],
   "source": [
    "spark = SparkSession.builder.appName(\"Read JSON\").getOrCreate()\n",
    "spark"
   ]
  },
  {
   "cell_type": "code",
   "execution_count": 17,
   "metadata": {},
   "outputs": [
    {
     "name": "stdout",
     "output_type": "stream",
     "text": [
      "+---------+--------------+----------------+-------------+------------------+\n",
      "|author_id|average_rating|            name|ratings_count|text_reviews_count|\n",
      "+---------+--------------+----------------+-------------+------------------+\n",
      "|   604031|          3.98|Ronald J. Fields|           49|                 7|\n",
      "|   626222|          4.08|   Anita Diamant|       546796|             28716|\n",
      "|    10333|          3.92|  Barbara Hambly|       122118|              5075|\n",
      "|     9212|          3.68| Jennifer Weiner|       888522|             36262|\n",
      "|   149918|          3.82|   Nigel Pennick|         1740|                96|\n",
      "+---------+--------------+----------------+-------------+------------------+\n",
      "only showing top 5 rows\n",
      "\n"
     ]
    }
   ],
   "source": [
    "dfAuthors = spark.read.json(authorsPath)\n",
    "dfAuthors.show(5)"
   ]
  },
  {
   "cell_type": "code",
   "execution_count": 33,
   "metadata": {},
   "outputs": [
    {
     "name": "stdout",
     "output_type": "stream",
     "text": [
      "+---------+----------------+----------+-----------+---------+\n",
      "|author_id|       full_name|first_name|middle_name|last_name|\n",
      "+---------+----------------+----------+-----------+---------+\n",
      "|   604031|Ronald J. Fields|    Ronald|         J.|   Fields|\n",
      "|   626222|   Anita Diamant|     Anita|       null|  Diamant|\n",
      "|    10333|  Barbara Hambly|   Barbara|       null|   Hambly|\n",
      "|     9212| Jennifer Weiner|  Jennifer|       null|   Weiner|\n",
      "|   149918|   Nigel Pennick|     Nigel|       null|  Pennick|\n",
      "+---------+----------------+----------+-----------+---------+\n",
      "only showing top 5 rows\n",
      "\n"
     ]
    }
   ],
   "source": [
    "# rename name column to full_name\n",
    "dfAuthors = dfAuthors.withColumnRenamed(\"name\", \"full_name\")\n",
    "\n",
    "# keep only author_id and full_name columns\n",
    "dfAuthors = dfAuthors.select(\"author_id\", \"full_name\")\n",
    "\n",
    "# Split the name column into separate columns for first, middle (if applicable), and last names\n",
    "split_name = split(col('full_name'), ' ')\n",
    "# show the split_name column\n",
    "dfAuthors = dfAuthors.withColumn('first_name', split_name.getItem(0))\\\n",
    "    .withColumn('middle_name', split_name.getItem(1))\\\n",
    "    .withColumn('last_name', split_name.getItem(2))\n",
    "\n",
    "# if last name is null, then switch the data in the last_name and middle_name columns \n",
    "dfAuthors = dfAuthors.withColumn('last_name', when(col('last_name').isNull(), col('middle_name')).otherwise(col('last_name')))\n",
    "# middle name is null when its is the same as the last name\n",
    "dfAuthors = dfAuthors.withColumn('middle_name', when(col('middle_name') == col('last_name'), None).otherwise(col('middle_name')))\n",
    "dfAuthors.show(5)\n"
   ]
  },
  {
   "cell_type": "code",
   "execution_count": 34,
   "metadata": {},
   "outputs": [
    {
     "name": "stdout",
     "output_type": "stream",
     "text": [
      "+---------+----------------+----------+-----------+---------+\n",
      "|author_id|       full_name|first_name|middle_name|last_name|\n",
      "+---------+----------------+----------+-----------+---------+\n",
      "|   604031|Ronald J. Fields|    Ronald|         J.|   Fields|\n",
      "|   626222|   Anita Diamant|     Anita|       null|  Diamant|\n",
      "|    10333|  Barbara Hambly|   Barbara|       null|   Hambly|\n",
      "|     9212| Jennifer Weiner|  Jennifer|       null|   Weiner|\n",
      "|   149918|   Nigel Pennick|     Nigel|       null|  Pennick|\n",
      "+---------+----------------+----------+-----------+---------+\n",
      "only showing top 5 rows\n",
      "\n"
     ]
    }
   ],
   "source": [
    "dfAuthors.show(5)"
   ]
  },
  {
   "cell_type": "code",
   "execution_count": null,
   "metadata": {},
   "outputs": [],
   "source": [
    "# firstName: {\n",
    "#         type: String,\n",
    "#         required: true,\n",
    "#         trim: true,\n",
    "#         minlength: 1,\n",
    "#         maxlength: 50\n",
    "#     },\n",
    "#     middleName: {\n",
    "#         type: String,\n",
    "#         required: false,\n",
    "#         trim: true,\n",
    "#         minlength: 1,\n",
    "#         maxlength: 50\n",
    "#     },\n",
    "#     lastName: {\n",
    "#         type: String,\n",
    "#         required: false,\n",
    "#         trim: true,\n",
    "#         minlength: 1,\n",
    "#         maxlength: 50\n",
    "#     },\n",
    "#     fullName: {\n",
    "#         type: String,\n",
    "#         required: true,\n",
    "#         trim: true,\n",
    "#         minlength: 1,\n",
    "#         maxlength: 150\n",
    "#     },\n",
    "#     authorId:{\n",
    "#         type: String,\n",
    "#         required: true,\n",
    "#         trim: true,\n",
    "#         minlength: 1,\n",
    "#         maxlength: 150\n",
    "#     },\n",
    "\n",
    "#rename to fit schema\n",
    "dfAuthors = dfAuthors.withColumnRenamed(\"author_id\", \"authorId\")\n",
    "dfAuthors = dfAuthors.withColumnRenamed(\"first_name\", \"firstName\")\n",
    "dfAuthors = dfAuthors.withColumnRenamed(\"middle_name\", \"middleName\")\n",
    "dfAuthors = dfAuthors.withColumnRenamed(\"last_name\", \"lastName\")\n",
    "dfAuthors = dfAuthors.withColumnRenamed(\"full_name\", \"fullName\")\n"
   ]
  },
  {
   "cell_type": "code",
   "execution_count": null,
   "metadata": {},
   "outputs": [],
   "source": [
    "# save as 1 json file\n",
    "dfAuthors.coalesce(1).write.format('json').save('authorsUp.json', mode='overwrite')"
   ]
  }
 ],
 "metadata": {
  "kernelspec": {
   "display_name": "Python 3",
   "language": "python",
   "name": "python3"
  },
  "language_info": {
   "codemirror_mode": {
    "name": "ipython",
    "version": 3
   },
   "file_extension": ".py",
   "mimetype": "text/x-python",
   "name": "python",
   "nbconvert_exporter": "python",
   "pygments_lexer": "ipython3",
   "version": "3.9.2"
  },
  "orig_nbformat": 4
 },
 "nbformat": 4,
 "nbformat_minor": 2
}
