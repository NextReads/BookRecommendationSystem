{
 "cells": [
  {
   "cell_type": "code",
   "execution_count": 1,
   "metadata": {},
   "outputs": [],
   "source": [
    "from pyspark.sql.functions import col\n",
    "from pyspark.sql.types import StructType, StructField, StringType, IntegerType\n",
    "from pyspark.sql import SparkSession\n",
    "import pandas as pd\n",
    "import time"
   ]
  },
  {
   "cell_type": "code",
   "execution_count": 2,
   "metadata": {},
   "outputs": [],
   "source": [
    "json_path = 'C:/Files/College/GP/UCSDBooks/Downloads/goodreads_reviews_dedup.json'\n",
    "csv_path = '../preprocessed_original/reviewsFull.csv'\n",
    "bookidsPath = '../preprocessed_original/book_ids.csv'\n",
    "\n",
    "columns = ['book_id', 'user_id', 'rating']\n",
    "json_data = []"
   ]
  },
  {
   "cell_type": "code",
   "execution_count": 3,
   "metadata": {},
   "outputs": [
    {
     "data": {
      "text/html": [
       "\n",
       "            <div>\n",
       "                <p><b>SparkSession - in-memory</b></p>\n",
       "                \n",
       "        <div>\n",
       "            <p><b>SparkContext</b></p>\n",
       "\n",
       "            <p><a href=\"http://LAPTOP-F5FLOBDQ:4040\">Spark UI</a></p>\n",
       "\n",
       "            <dl>\n",
       "              <dt>Version</dt>\n",
       "                <dd><code>v3.4.0</code></dd>\n",
       "              <dt>Master</dt>\n",
       "                <dd><code>local[*]</code></dd>\n",
       "              <dt>AppName</dt>\n",
       "                <dd><code>Read JSON</code></dd>\n",
       "            </dl>\n",
       "        </div>\n",
       "        \n",
       "            </div>\n",
       "        "
      ],
      "text/plain": [
       "<pyspark.sql.session.SparkSession at 0x1ca812bc700>"
      ]
     },
     "execution_count": 3,
     "metadata": {},
     "output_type": "execute_result"
    }
   ],
   "source": [
    "spark = SparkSession.builder.appName(\"Read JSON\").getOrCreate()\n",
    "spark"
   ]
  },
  {
   "cell_type": "code",
   "execution_count": 4,
   "metadata": {},
   "outputs": [],
   "source": [
    "chunk_size = 100000\n",
    "count = 0 \n",
    "df = spark.read.json(json_path)\n"
   ]
  },
  {
   "cell_type": "code",
   "execution_count": 5,
   "metadata": {},
   "outputs": [
    {
     "name": "stdout",
     "output_type": "stream",
     "text": [
      "+--------+\n",
      "| book_id|\n",
      "+--------+\n",
      "| 2767052|\n",
      "|       3|\n",
      "|   41865|\n",
      "|    2657|\n",
      "|    4671|\n",
      "|11870085|\n",
      "|    5907|\n",
      "|    5107|\n",
      "|    1885|\n",
      "|     960|\n",
      "|   48855|\n",
      "|    5470|\n",
      "|13335037|\n",
      "|    7613|\n",
      "|       5|\n",
      "| 2429135|\n",
      "| 6148028|\n",
      "|   77203|\n",
      "|   15881|\n",
      "|      34|\n",
      "+--------+\n",
      "only showing top 20 rows\n",
      "\n"
     ]
    }
   ],
   "source": [
    "dfBooks = spark.read.csv(bookidsPath, header=True)\n",
    "dfBooks.show()"
   ]
  },
  {
   "cell_type": "code",
   "execution_count": 6,
   "metadata": {},
   "outputs": [
    {
     "name": "stdout",
     "output_type": "stream",
     "text": [
      "+--------+--------------------+--------------------+----------+-------+------+--------------------+--------------------+--------------------+--------------------+--------------------+\n",
      "| book_id|          date_added|        date_updated|n_comments|n_votes|rating|             read_at|           review_id|         review_text|          started_at|             user_id|\n",
      "+--------+--------------------+--------------------+----------+-------+------+--------------------+--------------------+--------------------+--------------------+--------------------+\n",
      "|24375664|Fri Aug 25 13:55:...|Mon Oct 09 08:55:...|         0|     16|     5|Sat Oct 07 00:00:...|5cd416f3efc3f944f...|Mind blowingly co...|Sat Aug 26 00:00:...|8842281e1d1347389...|\n",
      "|18245960|Sun Jul 30 07:44:...|Wed Aug 30 00:00:...|         1|     28|     5|Sat Aug 26 12:05:...|dfdbb7b0eb5a7e4c2...|This is a special...|Tue Aug 15 13:23:...|8842281e1d1347389...|\n",
      "| 6392944|Mon Jul 24 02:48:...|Sun Jul 30 09:28:...|         0|      6|     3|Tue Jul 25 00:00:...|5e212a62bced17b4d...|I haven't read a ...|Mon Jul 24 00:00:...|8842281e1d1347389...|\n",
      "|22078596|Mon Jul 24 02:33:...|Sun Jul 30 10:23:...|         4|     22|     4|Sun Jul 30 15:42:...|fdd13cad0695656be...|Fun, fast paced, ...|Tue Jul 25 00:00:...|8842281e1d1347389...|\n",
      "| 6644782|Mon Jul 24 02:28:...|Thu Aug 24 00:07:...|         0|      8|     4|Sat Aug 05 00:00:...|bd0df91c9d918c0e4...|A fun book that g...|Sun Jul 30 00:00:...|8842281e1d1347389...|\n",
      "| 1995421|Mon Mar 06 07:14:...|Mon Mar 06 07:15:...|         0|      4|     0|                    |7350a30a2f5c785b1...|Kevin highly reco...|                    |8842281e1d1347389...|\n",
      "| 9460786|Tue Feb 28 17:52:...|Fri May 26 12:04:...|         3|     13|     4|Fri May 26 15:17:...|fc24c814e34ec6da3...|Giving a high rat...|Fri May 05 00:00:...|8842281e1d1347389...|\n",
      "|29983426|Sun Jan 08 15:51:...|Tue Mar 07 01:09:...|         6|     26|     5|Mon Feb 20 00:00:...|18479ea761f5f7d66...|I decided to give...|Fri Jan 13 00:00:...|8842281e1d1347389...|\n",
      "|29893493|Thu Dec 15 10:51:...|Sun Mar 12 23:33:...|         8|     29|     5|Thu Mar 09 15:34:...|c23406fb584d6304d...|I haven't read a ...|Tue Feb 28 17:55:...|8842281e1d1347389...|\n",
      "|28114110|Sun Dec 11 16:18:...|Tue Dec 27 07:29:...|         0|     14|     4|Sat Dec 17 00:00:...|fb5bdf2100832503e...|Kevin Kelly, who ...|Sun Dec 11 00:00:...|8842281e1d1347389...|\n",
      "|   16981|Mon Dec 05 10:46:...|Wed Mar 22 11:37:...|         0|      1|     3|                    |a5d2c3628987712d0...|Recommended by Do...|                    |8842281e1d1347389...|\n",
      "| 8191070|Fri Nov 18 17:43:...|Thu Aug 03 22:54:...|         0|     25|     5|Mon Jul 24 09:32:...|8fb75b37b3613a34e...|Best book of the ...|Mon May 08 07:52:...|8842281e1d1347389...|\n",
      "|28684704|Tue Nov 15 11:29:...|Mon Mar 20 23:40:...|         0|     22|     3|Sat Mar 18 23:22:...|2ede853b14dc4583f...|A fun, fast paced...|Fri Mar 17 23:45:...|8842281e1d1347389...|\n",
      "|27161156|Wed Nov 09 17:37:...|Wed Nov 09 17:38:...|         1|      5|     0|                    |ced5675e55cd9d38a...|Recommended readi...|                    |8842281e1d1347389...|\n",
      "|32768285|Thu Nov 03 08:39:...|Mon Feb 27 10:05:...|         1|     16|     5|Sun Feb 26 15:54:...|6d37be8de2959abec...|A fun, humorous, ...|Fri Jan 13 00:00:...|8842281e1d1347389...|\n",
      "|32283133|Tue Nov 01 11:09:...|Tue Nov 01 11:09:...|         0|      9|     0|                    |8e4d61801907e5910...|http://www.telegr...|                    |8842281e1d1347389...|\n",
      "|16064871|Mon Sep 26 08:45:...|Wed Jan 04 01:26:...|         0|      6|     5|Fri Nov 18 00:00:...|0737dc907735d9c77...|A fascinating loo...|Mon Sep 26 00:00:...|8842281e1d1347389...|\n",
      "|28119237|Thu Sep 22 16:19:...|Thu Sep 22 16:19:...|         2|     30|     4|Tue Nov 22 00:00:...|7a8dc8ab7f3c0084b...|A fascinating boo...|                    |8842281e1d1347389...|\n",
      "|30282601|Wed May 25 14:27:...|Sat Jun 10 10:30:...|         1|     18|     4|Sun Apr 30 19:26:...|251f22b7a1f6f45c4...|My first Scalzi b...|Mon Apr 17 12:50:...|8842281e1d1347389...|\n",
      "|20873740|Tue May 17 20:59:...|Tue May 17 20:59:...|         5|     68|     5|Sat Aug 13 00:00:...|ef77b0cd7d5db0a85...|I haven't read a ...|Fri Jul 01 00:00:...|8842281e1d1347389...|\n",
      "+--------+--------------------+--------------------+----------+-------+------+--------------------+--------------------+--------------------+--------------------+--------------------+\n",
      "only showing top 20 rows\n",
      "\n"
     ]
    }
   ],
   "source": [
    "df.show()"
   ]
  },
  {
   "cell_type": "code",
   "execution_count": 7,
   "metadata": {},
   "outputs": [
    {
     "name": "stdout",
     "output_type": "stream",
     "text": [
      "+--------+--------------------+------+--------------------+\n",
      "| book_id|             user_id|rating|         review_text|\n",
      "+--------+--------------------+------+--------------------+\n",
      "|24375664|8842281e1d1347389...|     5|Mind blowingly co...|\n",
      "|18245960|8842281e1d1347389...|     5|This is a special...|\n",
      "| 6392944|8842281e1d1347389...|     3|I haven't read a ...|\n",
      "|22078596|8842281e1d1347389...|     4|Fun, fast paced, ...|\n",
      "| 6644782|8842281e1d1347389...|     4|A fun book that g...|\n",
      "| 1995421|8842281e1d1347389...|     0|Kevin highly reco...|\n",
      "| 9460786|8842281e1d1347389...|     4|Giving a high rat...|\n",
      "|29983426|8842281e1d1347389...|     5|I decided to give...|\n",
      "|29893493|8842281e1d1347389...|     5|I haven't read a ...|\n",
      "|28114110|8842281e1d1347389...|     4|Kevin Kelly, who ...|\n",
      "|   16981|8842281e1d1347389...|     3|Recommended by Do...|\n",
      "| 8191070|8842281e1d1347389...|     5|Best book of the ...|\n",
      "|28684704|8842281e1d1347389...|     3|A fun, fast paced...|\n",
      "|27161156|8842281e1d1347389...|     0|Recommended readi...|\n",
      "|32768285|8842281e1d1347389...|     5|A fun, humorous, ...|\n",
      "|32283133|8842281e1d1347389...|     0|http://www.telegr...|\n",
      "|16064871|8842281e1d1347389...|     5|A fascinating loo...|\n",
      "|28119237|8842281e1d1347389...|     4|A fascinating boo...|\n",
      "|30282601|8842281e1d1347389...|     4|My first Scalzi b...|\n",
      "|20873740|8842281e1d1347389...|     5|I haven't read a ...|\n",
      "+--------+--------------------+------+--------------------+\n",
      "only showing top 20 rows\n",
      "\n"
     ]
    }
   ],
   "source": [
    "\n",
    "# select only user_id, book_id, rating columns\n",
    "df = df.select(col(\"book_id\"), col(\"user_id\"), col(\"rating\"), col(\"review_text\"))\n",
    "df.show()"
   ]
  },
  {
   "cell_type": "code",
   "execution_count": 8,
   "metadata": {},
   "outputs": [
    {
     "name": "stdout",
     "output_type": "stream",
     "text": [
      "+--------------------+--------+------+--------------------+\n",
      "|             user_id| book_id|rating|         review_text|\n",
      "+--------------------+--------+------+--------------------+\n",
      "|b77f34246ac69b4b6...|10000761|     3|A fascinating rea...|\n",
      "|3ec16d3d84ccd6e92...|10000761|     5|Jason Berry has d...|\n",
      "|6cff11a0530eeddeb...|10000761|     3|Interesting subje...|\n",
      "|a45fb5d39a6a9857f...|10000761|     3|The author addres...|\n",
      "|e4c2c0760e1b57734...| 1002783|     4|Lots of useful in...|\n",
      "|ef2ccb0190bb3c0e7...| 1002783|     4|This was a useful...|\n",
      "|bea77de12f3f6aac9...| 1002783|     5|An outstanding bo...|\n",
      "|294a81d154d40b9d2...|10029674|     3|quite a good litt...|\n",
      "|2b49259a6b753ce40...|10029674|     4|The Boy Who Playe...|\n",
      "|6305fa58820260714...| 1003397|     4|Just a cute and f...|\n",
      "|092e45a8ba9cf4548...|10046808|     5|One of the nicest...|\n",
      "|59c0224b905ad2543...|10051877|     4|Shows a lot of po...|\n",
      "|ca1c301fff032671a...|  100553|     5|We've seen hints ...|\n",
      "|de6dd5aab1e5277cc...|  100553|     5|2012 Reread: I go...|\n",
      "|b8db940ec249b138c...|  100553|     4|This was the thir...|\n",
      "|80604d65adc48e3ae...|  100553|     3|It started out re...|\n",
      "|76e4ed05f826f98e0...|10062169|     3|First of all, I l...|\n",
      "|2fb7cedf19df2558d...|10076589|     3|Not been my favou...|\n",
      "|7b978cf4bda49a577...|10080265|     4|Four people are b...|\n",
      "|9222a00ce81c3f642...|10080265|     4|A fun quick read....|\n",
      "+--------------------+--------+------+--------------------+\n",
      "only showing top 20 rows\n",
      "\n"
     ]
    }
   ],
   "source": [
    "df.count()\n",
    "# if book id is not in book_ids.csv, remove it and merge book_id column with book_ids.csv\n",
    "df = df.join(dfBooks, df.book_id == dfBooks.book_id, how='inner').select(df.user_id, dfBooks.book_id, df.rating, df.review_text)\n",
    "# show count of rows\n",
    "df.count()\n",
    "df.show()\n"
   ]
  },
  {
   "cell_type": "code",
   "execution_count": 10,
   "metadata": {},
   "outputs": [],
   "source": [
    "# write to single file\n",
    "df.coalesce(1).write.csv(csv_path, header=True)\n"
   ]
  }
 ],
 "metadata": {
  "kernelspec": {
   "display_name": "Python 3",
   "language": "python",
   "name": "python3"
  },
  "language_info": {
   "codemirror_mode": {
    "name": "ipython",
    "version": 3
   },
   "file_extension": ".py",
   "mimetype": "text/x-python",
   "name": "python",
   "nbconvert_exporter": "python",
   "pygments_lexer": "ipython3",
   "version": "3.9.2"
  },
  "orig_nbformat": 4
 },
 "nbformat": 4,
 "nbformat_minor": 2
}
