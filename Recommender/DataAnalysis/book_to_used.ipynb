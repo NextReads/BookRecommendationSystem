{
 "cells": [
  {
   "cell_type": "code",
   "execution_count": 1,
   "metadata": {},
   "outputs": [],
   "source": [
    "import pandas as pd\n",
    "import data_handler as dh\n",
    "%load_ext autoreload\n",
    "%autoreload 2\n",
    "%reload_ext autoreload"
   ]
  },
  {
   "cell_type": "code",
   "execution_count": 2,
   "metadata": {},
   "outputs": [],
   "source": [
    "goodreads_books = pd.read_csv('../preprocessed_original/goodreads_books.csv')\n",
    "csv_path = '../preprocessed_original/used/books.csv'\n",
    "# goodreads_books.head()"
   ]
  },
  {
   "cell_type": "code",
   "execution_count": 3,
   "metadata": {},
   "outputs": [],
   "source": [
    "goodreads_books_copy = goodreads_books.copy()\n",
    "books_handler = dh.DataHandler(goodreads_books_copy)\n"
   ]
  },
  {
   "cell_type": "code",
   "execution_count": 4,
   "metadata": {},
   "outputs": [
    {
     "data": {
      "text/plain": [
       "book_id                     0\n",
       "work_id                   524\n",
       "isbn                   983373\n",
       "series                1621280\n",
       "title                      11\n",
       "authors                   537\n",
       "language_code         1060153\n",
       "average_rating            524\n",
       "publication_year       599625\n",
       "text_reviews_count        524\n",
       "ratings_count             524\n",
       "image_url                 490\n",
       "dtype: int64"
      ]
     },
     "execution_count": 4,
     "metadata": {},
     "output_type": "execute_result"
    }
   ],
   "source": [
    "books_handler.null_values()"
   ]
  },
  {
   "attachments": {},
   "cell_type": "markdown",
   "metadata": {},
   "source": [
    "# language_code preprocessing"
   ]
  },
  {
   "cell_type": "code",
   "execution_count": 5,
   "metadata": {},
   "outputs": [
    {
     "name": "stdout",
     "output_type": "stream",
     "text": [
      "226\n",
      "1300502\n"
     ]
    }
   ],
   "source": [
    "book_occurances = books_handler.column_occurrences('language_code')\n",
    "print(len(book_occurances))\n",
    "print(book_occurances.values.sum())"
   ]
  },
  {
   "cell_type": "code",
   "execution_count": 6,
   "metadata": {},
   "outputs": [
    {
     "name": "stdout",
     "output_type": "stream",
     "text": [
      "(371, 12)\n"
     ]
    }
   ],
   "source": [
    "# books with ukr language code, has reviews, and more than 10 ratings\n",
    "ukr_books = goodreads_books_copy[(goodreads_books_copy['language_code'] == 'ben') & (goodreads_books_copy['text_reviews_count'] > 0) & (goodreads_books_copy['ratings_count'] > 200)]\n",
    "print(ukr_books.shape)"
   ]
  },
  {
   "cell_type": "code",
   "execution_count": 7,
   "metadata": {},
   "outputs": [],
   "source": [
    "\n",
    "\n",
    "\n",
    "# these are the language codes that have more than 1000 occurances, so they will be kept, but saved in a dictionary with their synonyms\n",
    "# e.g. 'en-US' will be replaced with 'eng', keeping the same language code but with a more general name\n",
    "# this will be used in the replace method\n",
    "# the keys are the main language codes and the values are the synonyms found from the language_code column, which will be replaced with the key\n",
    "language_code_dict = {'eng': ['eng', 'en-US', 'en-GB', 'en-CA'],\n",
    "                        'lat': ['spa', 'rum'],\n",
    "                        'ita': ['ita'],\n",
    "                        'ara': ['ara'],\n",
    "                        'fre': ['fre'],\n",
    "                        'ger': ['ger', 'nl'],\n",
    "                        'mkh': ['ind', 'msa'],\n",
    "                        'por': ['por'],\n",
    "                        'tur': ['tur'],\n",
    "                        'per': ['per'],\n",
    "                        'urj': ['fin', 'hun', 'est'],\n",
    "                        'gre': ['gre'],\n",
    "                        'gmq': ['swe', 'dan', 'nor'],\n",
    "                        'wen': ['cze', 'pol', 'slo'],\n",
    "                        'jpn': ['jpn'],\n",
    "                        'sla': ['rus', 'scr', 'srp', 'bul', 'ukr'],\n",
    "                        'vie': ['vie', 'tha', 'zho'],\n",
    "                        'bat': ['lit', 'lav']}\n",
    "\n",
    "# invert the dictionary so that the keys are the synonyms and the values are the main language codes\n",
    "language_code_dict = {v: k for k, v_list in language_code_dict.items() for v in v_list}\n"
   ]
  },
  {
   "cell_type": "code",
   "execution_count": 8,
   "metadata": {},
   "outputs": [],
   "source": [
    "# replace the language codes with the main language codes\n",
    "books_handler.df = books_handler.column_replace_values('language_code', language_code_dict)\n",
    "\n",
    "# change any language codes that are not a nan or in the dictionary to 'other'\n",
    "books_handler.df ['language_code'] = books_handler.df ['language_code'].apply(lambda x: x if x in language_code_dict.values() or pd.isna(x) else 'other')\n"
   ]
  },
  {
   "cell_type": "code",
   "execution_count": 9,
   "metadata": {},
   "outputs": [
    {
     "name": "stdout",
     "output_type": "stream",
     "text": [
      "19\n",
      "1300502\n",
      "4176\n"
     ]
    }
   ],
   "source": [
    "book_occurances = books_handler.column_occurrences('language_code')\n",
    "print(len(book_occurances))\n",
    "print(book_occurances.values.sum())\n",
    "print(book_occurances.values.min())\n"
   ]
  },
  {
   "attachments": {},
   "cell_type": "markdown",
   "metadata": {},
   "source": [
    "# work_id/book_id preprocessing"
   ]
  },
  {
   "cell_type": "code",
   "execution_count": 10,
   "metadata": {},
   "outputs": [
    {
     "data": {
      "text/plain": [
       "book_id                     0\n",
       "work_id                   524\n",
       "isbn                   983373\n",
       "series                1621280\n",
       "title                      11\n",
       "authors                   537\n",
       "language_code         1060153\n",
       "average_rating            524\n",
       "publication_year       599625\n",
       "text_reviews_count        524\n",
       "ratings_count             524\n",
       "image_url                 490\n",
       "dtype: int64"
      ]
     },
     "execution_count": 10,
     "metadata": {},
     "output_type": "execute_result"
    }
   ],
   "source": [
    "df_copy = books_handler.df.copy()\n",
    "df_copy.isna().sum()"
   ]
  },
  {
   "cell_type": "code",
   "execution_count": 11,
   "metadata": {},
   "outputs": [
    {
     "name": "stdout",
     "output_type": "stream",
     "text": [
      "1521962\n"
     ]
    }
   ],
   "source": [
    "print(df_copy['work_id'].nunique())"
   ]
  },
  {
   "cell_type": "code",
   "execution_count": 12,
   "metadata": {},
   "outputs": [
    {
     "data": {
      "text/html": [
       "<div>\n",
       "<style scoped>\n",
       "    .dataframe tbody tr th:only-of-type {\n",
       "        vertical-align: middle;\n",
       "    }\n",
       "\n",
       "    .dataframe tbody tr th {\n",
       "        vertical-align: top;\n",
       "    }\n",
       "\n",
       "    .dataframe thead th {\n",
       "        text-align: right;\n",
       "    }\n",
       "</style>\n",
       "<table border=\"1\" class=\"dataframe\">\n",
       "  <thead>\n",
       "    <tr style=\"text-align: right;\">\n",
       "      <th></th>\n",
       "      <th>book_id</th>\n",
       "      <th>work_id</th>\n",
       "      <th>isbn</th>\n",
       "      <th>series</th>\n",
       "      <th>title</th>\n",
       "      <th>authors</th>\n",
       "      <th>language_code</th>\n",
       "      <th>average_rating</th>\n",
       "      <th>publication_year</th>\n",
       "      <th>text_reviews_count</th>\n",
       "      <th>ratings_count</th>\n",
       "      <th>image_url</th>\n",
       "    </tr>\n",
       "  </thead>\n",
       "  <tbody>\n",
       "    <tr>\n",
       "      <th>52099</th>\n",
       "      <td>2729856</td>\n",
       "      <td>40.0</td>\n",
       "      <td>067142503X</td>\n",
       "      <td>NaN</td>\n",
       "      <td>Hidden Persuaders</td>\n",
       "      <td>2553.0</td>\n",
       "      <td>NaN</td>\n",
       "      <td>3.91</td>\n",
       "      <td>NaN</td>\n",
       "      <td>3.0</td>\n",
       "      <td>10.0</td>\n",
       "      <td>https://images.gr-assets.com/books/1440119792m...</td>\n",
       "    </tr>\n",
       "    <tr>\n",
       "      <th>740235</th>\n",
       "      <td>20696551</td>\n",
       "      <td>40.0</td>\n",
       "      <td>0671810359</td>\n",
       "      <td>NaN</td>\n",
       "      <td>The Hidden Persuaders</td>\n",
       "      <td>2553.0</td>\n",
       "      <td>NaN</td>\n",
       "      <td>3.91</td>\n",
       "      <td>NaN</td>\n",
       "      <td>1.0</td>\n",
       "      <td>1.0</td>\n",
       "      <td>https://s.gr-assets.com/assets/nophoto/book/11...</td>\n",
       "    </tr>\n",
       "    <tr>\n",
       "      <th>946094</th>\n",
       "      <td>3730</td>\n",
       "      <td>40.0</td>\n",
       "      <td>097884310X</td>\n",
       "      <td>NaN</td>\n",
       "      <td>The Hidden Persuaders</td>\n",
       "      <td>2553.0</td>\n",
       "      <td>NaN</td>\n",
       "      <td>3.91</td>\n",
       "      <td>2007.0</td>\n",
       "      <td>46.0</td>\n",
       "      <td>615.0</td>\n",
       "      <td>https://images.gr-assets.com/books/1395145591m...</td>\n",
       "    </tr>\n",
       "    <tr>\n",
       "      <th>1578727</th>\n",
       "      <td>7826764</td>\n",
       "      <td>40.0</td>\n",
       "      <td>NaN</td>\n",
       "      <td>NaN</td>\n",
       "      <td>The Hidden Persuaders (C-288)</td>\n",
       "      <td>2553.0</td>\n",
       "      <td>eng</td>\n",
       "      <td>3.91</td>\n",
       "      <td>1958.0</td>\n",
       "      <td>1.0</td>\n",
       "      <td>2.0</td>\n",
       "      <td>https://s.gr-assets.com/assets/nophoto/book/11...</td>\n",
       "    </tr>\n",
       "  </tbody>\n",
       "</table>\n",
       "</div>"
      ],
      "text/plain": [
       "          book_id  work_id        isbn series                          title  \\\n",
       "52099     2729856     40.0  067142503X    NaN              Hidden Persuaders   \n",
       "740235   20696551     40.0  0671810359    NaN          The Hidden Persuaders   \n",
       "946094       3730     40.0  097884310X    NaN          The Hidden Persuaders   \n",
       "1578727   7826764     40.0         NaN    NaN  The Hidden Persuaders (C-288)   \n",
       "\n",
       "         authors language_code  average_rating  publication_year  \\\n",
       "52099     2553.0           NaN            3.91               NaN   \n",
       "740235    2553.0           NaN            3.91               NaN   \n",
       "946094    2553.0           NaN            3.91            2007.0   \n",
       "1578727   2553.0           eng            3.91            1958.0   \n",
       "\n",
       "         text_reviews_count  ratings_count  \\\n",
       "52099                   3.0           10.0   \n",
       "740235                  1.0            1.0   \n",
       "946094                 46.0          615.0   \n",
       "1578727                 1.0            2.0   \n",
       "\n",
       "                                                 image_url  \n",
       "52099    https://images.gr-assets.com/books/1440119792m...  \n",
       "740235   https://s.gr-assets.com/assets/nophoto/book/11...  \n",
       "946094   https://images.gr-assets.com/books/1395145591m...  \n",
       "1578727  https://s.gr-assets.com/assets/nophoto/book/11...  "
      ]
     },
     "execution_count": 12,
     "metadata": {},
     "output_type": "execute_result"
    }
   ],
   "source": [
    "# find books with duplicate work_id\n",
    "df_copy[df_copy.duplicated(subset=['work_id'], keep=False)].sort_values(by=['work_id'])\n",
    "# find all books with work_id 40\n",
    "df_copy[df_copy['work_id'] == 40]"
   ]
  },
  {
   "cell_type": "code",
   "execution_count": 13,
   "metadata": {},
   "outputs": [
    {
     "data": {
      "text/html": [
       "<div>\n",
       "<style scoped>\n",
       "    .dataframe tbody tr th:only-of-type {\n",
       "        vertical-align: middle;\n",
       "    }\n",
       "\n",
       "    .dataframe tbody tr th {\n",
       "        vertical-align: top;\n",
       "    }\n",
       "\n",
       "    .dataframe thead th {\n",
       "        text-align: right;\n",
       "    }\n",
       "</style>\n",
       "<table border=\"1\" class=\"dataframe\">\n",
       "  <thead>\n",
       "    <tr style=\"text-align: right;\">\n",
       "      <th></th>\n",
       "      <th>book_id</th>\n",
       "      <th>work_id</th>\n",
       "      <th>isbn</th>\n",
       "      <th>series</th>\n",
       "      <th>title</th>\n",
       "      <th>authors</th>\n",
       "      <th>language_code</th>\n",
       "      <th>average_rating</th>\n",
       "      <th>publication_year</th>\n",
       "      <th>text_reviews_count</th>\n",
       "      <th>ratings_count</th>\n",
       "      <th>image_url</th>\n",
       "    </tr>\n",
       "  </thead>\n",
       "  <tbody>\n",
       "    <tr>\n",
       "      <th>946094</th>\n",
       "      <td>3730</td>\n",
       "      <td>40.0</td>\n",
       "      <td>097884310X</td>\n",
       "      <td>NaN</td>\n",
       "      <td>The Hidden Persuaders</td>\n",
       "      <td>2553.0</td>\n",
       "      <td>NaN</td>\n",
       "      <td>3.91</td>\n",
       "      <td>2007.0</td>\n",
       "      <td>46.0</td>\n",
       "      <td>615.0</td>\n",
       "      <td>https://images.gr-assets.com/books/1395145591m...</td>\n",
       "    </tr>\n",
       "  </tbody>\n",
       "</table>\n",
       "</div>"
      ],
      "text/plain": [
       "        book_id  work_id        isbn series                  title  authors  \\\n",
       "946094     3730     40.0  097884310X    NaN  The Hidden Persuaders   2553.0   \n",
       "\n",
       "       language_code  average_rating  publication_year  text_reviews_count  \\\n",
       "946094           NaN            3.91            2007.0                46.0   \n",
       "\n",
       "        ratings_count                                          image_url  \n",
       "946094          615.0  https://images.gr-assets.com/books/1395145591m...  "
      ]
     },
     "execution_count": 13,
     "metadata": {},
     "output_type": "execute_result"
    }
   ],
   "source": [
    "# find all books with the same work_id, and keep only the one with the highest ratings_count\n",
    "df_copy = df_copy.sort_values('ratings_count', ascending=False).drop_duplicates('work_id', keep='first')\n",
    "df_copy[df_copy['work_id'] == 40]\n",
    "\n"
   ]
  },
  {
   "cell_type": "code",
   "execution_count": 14,
   "metadata": {},
   "outputs": [
    {
     "data": {
      "text/plain": [
       "book_id                     0\n",
       "work_id                     1\n",
       "isbn                   615778\n",
       "series                1151284\n",
       "title                       9\n",
       "authors                    13\n",
       "language_code          733088\n",
       "average_rating              1\n",
       "publication_year       390207\n",
       "text_reviews_count          1\n",
       "ratings_count               1\n",
       "image_url                   1\n",
       "dtype: int64"
      ]
     },
     "execution_count": 14,
     "metadata": {},
     "output_type": "execute_result"
    }
   ],
   "source": [
    "# drop the rows with null values in the work_id column\n",
    "df_copy.isna().sum()\n"
   ]
  },
  {
   "cell_type": "code",
   "execution_count": 15,
   "metadata": {},
   "outputs": [
    {
     "data": {
      "text/plain": [
       "book_id                     0\n",
       "work_id                     0\n",
       "isbn                   615777\n",
       "series                1151283\n",
       "title                       9\n",
       "authors                    12\n",
       "language_code          733087\n",
       "average_rating              0\n",
       "publication_year       390206\n",
       "text_reviews_count          0\n",
       "ratings_count               0\n",
       "image_url                   0\n",
       "dtype: int64"
      ]
     },
     "execution_count": 15,
     "metadata": {},
     "output_type": "execute_result"
    }
   ],
   "source": [
    "df_copy = df_copy.dropna(subset=['work_id'])\n",
    "df_copy.isna().sum()"
   ]
  },
  {
   "cell_type": "code",
   "execution_count": 16,
   "metadata": {},
   "outputs": [],
   "source": [
    "# save the dataframe to a csv file\n",
    "df_copy.to_csv(csv_path, index=False)"
   ]
  },
  {
   "cell_type": "code",
   "execution_count": null,
   "metadata": {},
   "outputs": [],
   "source": []
  }
 ],
 "metadata": {
  "kernelspec": {
   "display_name": "base",
   "language": "python",
   "name": "python3"
  },
  "language_info": {
   "codemirror_mode": {
    "name": "ipython",
    "version": 3
   },
   "file_extension": ".py",
   "mimetype": "text/x-python",
   "name": "python",
   "nbconvert_exporter": "python",
   "pygments_lexer": "ipython3",
   "version": "3.9.13"
  },
  "orig_nbformat": 4
 },
 "nbformat": 4,
 "nbformat_minor": 2
}
