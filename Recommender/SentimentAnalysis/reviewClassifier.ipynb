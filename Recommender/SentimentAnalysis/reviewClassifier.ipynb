{
 "cells": [
  {
   "cell_type": "code",
   "execution_count": 28,
   "metadata": {},
   "outputs": [
    {
     "name": "stdout",
     "output_type": "stream",
     "text": [
      "The autoreload extension is already loaded. To reload it, use:\n",
      "  %reload_ext autoreload\n",
      "../SentimentAnalysis/models/svm_linear_model.sav\n",
      "../SentimentAnalysis/models/tfidf.pkl\n",
      "['the book was amazing ', ' i liked how the characters felt so real and how they interacted with one another', \" i didn't like however their bad language\", '']\n",
      "['the book was amazing', 'i liked how the characters felt so real and how they interacted with one another']\n",
      "tfidf  amaze like felt real interact\n",
      "tfidf   (0, 362510)\t0.21299237724010248\n",
      "  (0, 256361)\t0.4109884271780108\n",
      "  (0, 255895)\t0.16200491981967202\n",
      "  (0, 227313)\t0.37258083575514694\n",
      "  (0, 156200)\t0.4006977581022798\n",
      "  (0, 155425)\t0.18875558957866256\n",
      "  (0, 17713)\t0.5882283174058557\n",
      "  (0, 17554)\t0.2801084921991246\n",
      "prediction [1]\n",
      "[1]\n"
     ]
    }
   ],
   "source": [
    "import featureExtraction as fe\n",
    "import sys\n",
    "from preprocessing import preprocessReview\n",
    "%load_ext autoreload\n",
    "%autoreload 2\n",
    "\n",
    "def getReviewSentiment(text):\n",
    "    clflinear = fe.load_model('svm_linear_model.sav')\n",
    "    tfidf_vectorizer = fe.load_model('tfidf.pkl')\n",
    "    \n",
    "    text=preprocessReview(text)\n",
    "    print(\"tfidf \",text)\n",
    "    tfidf_test=tfidf_vectorizer.transform([text])\n",
    "    print(\"tfidf\",tfidf_test)\n",
    "    prediction=clflinear.predict(tfidf_test)\n",
    "    # print(\"predictions\",predictions)\n",
    "    # print(\"mean\",mean)\n",
    "    print(\"prediction\",prediction)\n",
    "    return prediction \n",
    "\n",
    "print(getReviewSentiment(\"the book was amazing , i liked how the characters felt so real and how they interacted with one another, i didn't like however their bad language.\"))\n",
    "# sys.stdout.flush()"
   ]
  }
 ],
 "metadata": {
  "kernelspec": {
   "display_name": "base",
   "language": "python",
   "name": "python3"
  },
  "language_info": {
   "codemirror_mode": {
    "name": "ipython",
    "version": 3
   },
   "file_extension": ".py",
   "mimetype": "text/x-python",
   "name": "python",
   "nbconvert_exporter": "python",
   "pygments_lexer": "ipython3",
   "version": "3.9.13"
  },
  "orig_nbformat": 4
 },
 "nbformat": 4,
 "nbformat_minor": 2
}
