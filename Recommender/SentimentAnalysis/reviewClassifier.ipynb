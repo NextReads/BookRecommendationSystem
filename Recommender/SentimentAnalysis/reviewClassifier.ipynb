{
 "cells": [
  {
   "cell_type": "code",
   "execution_count": 3,
   "metadata": {},
   "outputs": [
    {
     "name": "stdout",
     "output_type": "stream",
     "text": [
      "prediction [1]\n",
      "[1]\n"
     ]
    }
   ],
   "source": [
    "import featureExtraction as fe\n",
    "import sys\n",
    "from preprocessing import preprocessReview\n",
    "def getReviewSentiment(text):\n",
    "    clflinear = fe.load_model('svm_linear_model.sav')\n",
    "    tfidf_vectorizer = fe.load_model('tfidf.pkl')\n",
    "    \n",
    "    text=preprocessReview(text)\n",
    "\n",
    "    tfidf_test=tfidf_vectorizer.transform([text])\n",
    "    \n",
    "    prediction=clflinear.predict(tfidf_test)\n",
    "    # print(\"predictions\",predictions)\n",
    "    # print(\"mean\",mean)\n",
    "    print(\"prediction\",prediction)\n",
    "    return prediction \n",
    "\n",
    "print(getReviewSentiment(\"the book was amazing, i liked how the characters felt so real and how they interacted with one another.\"))\n",
    "# sys.stdout.flush()"
   ]
  }
 ],
 "metadata": {
  "kernelspec": {
   "display_name": "base",
   "language": "python",
   "name": "python3"
  },
  "language_info": {
   "codemirror_mode": {
    "name": "ipython",
    "version": 3
   },
   "file_extension": ".py",
   "mimetype": "text/x-python",
   "name": "python",
   "nbconvert_exporter": "python",
   "pygments_lexer": "ipython3",
   "version": "3.9.13"
  },
  "orig_nbformat": 4
 },
 "nbformat": 4,
 "nbformat_minor": 2
}
