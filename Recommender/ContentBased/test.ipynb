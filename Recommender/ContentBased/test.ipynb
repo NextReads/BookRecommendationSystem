{
 "cells": [
  {
   "cell_type": "code",
   "execution_count": 19,
   "metadata": {},
   "outputs": [
    {
     "name": "stdout",
     "output_type": "stream",
     "text": [
      "The autoreload extension is already loaded. To reload it, use:\n",
      "  %reload_ext autoreload\n"
     ]
    }
   ],
   "source": [
    "import sys\n",
    "sys.path.append(\"../\")\n",
    "\n",
    "from content_based import *\n",
    "%matplotlib inline\n",
    "%load_ext autoreload\n",
    "%autoreload 2\n",
    "%reload_ext autoreload"
   ]
  },
  {
   "cell_type": "code",
   "execution_count": 20,
   "metadata": {},
   "outputs": [
    {
     "data": {
      "text/html": [
       "<div>\n",
       "<style scoped>\n",
       "    .dataframe tbody tr th:only-of-type {\n",
       "        vertical-align: middle;\n",
       "    }\n",
       "\n",
       "    .dataframe tbody tr th {\n",
       "        vertical-align: top;\n",
       "    }\n",
       "\n",
       "    .dataframe thead th {\n",
       "        text-align: right;\n",
       "    }\n",
       "</style>\n",
       "<table border=\"1\" class=\"dataframe\">\n",
       "  <thead>\n",
       "    <tr style=\"text-align: right;\">\n",
       "      <th></th>\n",
       "      <th>book_id</th>\n",
       "      <th>history, historical fiction, biography</th>\n",
       "      <th>fiction</th>\n",
       "      <th>fantasy, paranormal</th>\n",
       "      <th>mystery, thriller, crime</th>\n",
       "      <th>poetry</th>\n",
       "      <th>romance</th>\n",
       "      <th>non-fiction</th>\n",
       "      <th>children</th>\n",
       "      <th>young-adult</th>\n",
       "      <th>comics, graphic</th>\n",
       "    </tr>\n",
       "  </thead>\n",
       "  <tbody>\n",
       "    <tr>\n",
       "      <th>0</th>\n",
       "      <td>5333265</td>\n",
       "      <td>1.0</td>\n",
       "      <td>NaN</td>\n",
       "      <td>NaN</td>\n",
       "      <td>NaN</td>\n",
       "      <td>NaN</td>\n",
       "      <td>NaN</td>\n",
       "      <td>NaN</td>\n",
       "      <td>NaN</td>\n",
       "      <td>NaN</td>\n",
       "      <td>NaN</td>\n",
       "    </tr>\n",
       "    <tr>\n",
       "      <th>1</th>\n",
       "      <td>7327624</td>\n",
       "      <td>NaN</td>\n",
       "      <td>8.0</td>\n",
       "      <td>31.0</td>\n",
       "      <td>1.0</td>\n",
       "      <td>1.0</td>\n",
       "      <td>NaN</td>\n",
       "      <td>NaN</td>\n",
       "      <td>NaN</td>\n",
       "      <td>NaN</td>\n",
       "      <td>NaN</td>\n",
       "    </tr>\n",
       "    <tr>\n",
       "      <th>2</th>\n",
       "      <td>6066819</td>\n",
       "      <td>NaN</td>\n",
       "      <td>555.0</td>\n",
       "      <td>NaN</td>\n",
       "      <td>10.0</td>\n",
       "      <td>NaN</td>\n",
       "      <td>23.0</td>\n",
       "      <td>NaN</td>\n",
       "      <td>NaN</td>\n",
       "      <td>NaN</td>\n",
       "      <td>NaN</td>\n",
       "    </tr>\n",
       "    <tr>\n",
       "      <th>3</th>\n",
       "      <td>287140</td>\n",
       "      <td>NaN</td>\n",
       "      <td>NaN</td>\n",
       "      <td>NaN</td>\n",
       "      <td>NaN</td>\n",
       "      <td>NaN</td>\n",
       "      <td>NaN</td>\n",
       "      <td>3.0</td>\n",
       "      <td>NaN</td>\n",
       "      <td>NaN</td>\n",
       "      <td>NaN</td>\n",
       "    </tr>\n",
       "    <tr>\n",
       "      <th>4</th>\n",
       "      <td>287141</td>\n",
       "      <td>9.0</td>\n",
       "      <td>1.0</td>\n",
       "      <td>1.0</td>\n",
       "      <td>NaN</td>\n",
       "      <td>NaN</td>\n",
       "      <td>NaN</td>\n",
       "      <td>NaN</td>\n",
       "      <td>6.0</td>\n",
       "      <td>1.0</td>\n",
       "      <td>NaN</td>\n",
       "    </tr>\n",
       "    <tr>\n",
       "      <th>5</th>\n",
       "      <td>378460</td>\n",
       "      <td>NaN</td>\n",
       "      <td>2.0</td>\n",
       "      <td>NaN</td>\n",
       "      <td>NaN</td>\n",
       "      <td>NaN</td>\n",
       "      <td>NaN</td>\n",
       "      <td>NaN</td>\n",
       "      <td>NaN</td>\n",
       "      <td>NaN</td>\n",
       "      <td>NaN</td>\n",
       "    </tr>\n",
       "    <tr>\n",
       "      <th>6</th>\n",
       "      <td>34883016</td>\n",
       "      <td>NaN</td>\n",
       "      <td>NaN</td>\n",
       "      <td>NaN</td>\n",
       "      <td>NaN</td>\n",
       "      <td>NaN</td>\n",
       "      <td>3.0</td>\n",
       "      <td>NaN</td>\n",
       "      <td>NaN</td>\n",
       "      <td>NaN</td>\n",
       "      <td>NaN</td>\n",
       "    </tr>\n",
       "    <tr>\n",
       "      <th>7</th>\n",
       "      <td>287149</td>\n",
       "      <td>1.0</td>\n",
       "      <td>NaN</td>\n",
       "      <td>NaN</td>\n",
       "      <td>NaN</td>\n",
       "      <td>NaN</td>\n",
       "      <td>NaN</td>\n",
       "      <td>24.0</td>\n",
       "      <td>NaN</td>\n",
       "      <td>NaN</td>\n",
       "      <td>NaN</td>\n",
       "    </tr>\n",
       "    <tr>\n",
       "      <th>8</th>\n",
       "      <td>6066814</td>\n",
       "      <td>38.0</td>\n",
       "      <td>19.0</td>\n",
       "      <td>NaN</td>\n",
       "      <td>38.0</td>\n",
       "      <td>NaN</td>\n",
       "      <td>NaN</td>\n",
       "      <td>NaN</td>\n",
       "      <td>NaN</td>\n",
       "      <td>NaN</td>\n",
       "      <td>NaN</td>\n",
       "    </tr>\n",
       "    <tr>\n",
       "      <th>9</th>\n",
       "      <td>33394837</td>\n",
       "      <td>4.0</td>\n",
       "      <td>3.0</td>\n",
       "      <td>11.0</td>\n",
       "      <td>12.0</td>\n",
       "      <td>NaN</td>\n",
       "      <td>NaN</td>\n",
       "      <td>NaN</td>\n",
       "      <td>NaN</td>\n",
       "      <td>NaN</td>\n",
       "      <td>NaN</td>\n",
       "    </tr>\n",
       "  </tbody>\n",
       "</table>\n",
       "</div>"
      ],
      "text/plain": [
       "    book_id  history, historical fiction, biography  fiction  \\\n",
       "0   5333265                                     1.0      NaN   \n",
       "1   7327624                                     NaN      8.0   \n",
       "2   6066819                                     NaN    555.0   \n",
       "3    287140                                     NaN      NaN   \n",
       "4    287141                                     9.0      1.0   \n",
       "5    378460                                     NaN      2.0   \n",
       "6  34883016                                     NaN      NaN   \n",
       "7    287149                                     1.0      NaN   \n",
       "8   6066814                                    38.0     19.0   \n",
       "9  33394837                                     4.0      3.0   \n",
       "\n",
       "   fantasy, paranormal  mystery, thriller, crime  poetry  romance  \\\n",
       "0                  NaN                       NaN     NaN      NaN   \n",
       "1                 31.0                       1.0     1.0      NaN   \n",
       "2                  NaN                      10.0     NaN     23.0   \n",
       "3                  NaN                       NaN     NaN      NaN   \n",
       "4                  1.0                       NaN     NaN      NaN   \n",
       "5                  NaN                       NaN     NaN      NaN   \n",
       "6                  NaN                       NaN     NaN      3.0   \n",
       "7                  NaN                       NaN     NaN      NaN   \n",
       "8                  NaN                      38.0     NaN      NaN   \n",
       "9                 11.0                      12.0     NaN      NaN   \n",
       "\n",
       "   non-fiction  children  young-adult  comics, graphic  \n",
       "0          NaN       NaN          NaN              NaN  \n",
       "1          NaN       NaN          NaN              NaN  \n",
       "2          NaN       NaN          NaN              NaN  \n",
       "3          3.0       NaN          NaN              NaN  \n",
       "4          NaN       6.0          1.0              NaN  \n",
       "5          NaN       NaN          NaN              NaN  \n",
       "6          NaN       NaN          NaN              NaN  \n",
       "7         24.0       NaN          NaN              NaN  \n",
       "8          NaN       NaN          NaN              NaN  \n",
       "9          NaN       NaN          NaN              NaN  "
      ]
     },
     "execution_count": 20,
     "metadata": {},
     "output_type": "execute_result"
    }
   ],
   "source": [
    "# 5333265\n",
    "genre_df = read_data('../Utils/dataset/genres.csv')\n",
    "genre_df.head(10)"
   ]
  },
  {
   "cell_type": "code",
   "execution_count": 21,
   "metadata": {},
   "outputs": [],
   "source": [
    "book_id = 2767052\n",
    "genre_df_copy = genre_df.copy()"
   ]
  },
  {
   "cell_type": "code",
   "execution_count": 22,
   "metadata": {},
   "outputs": [
    {
     "name": "stdout",
     "output_type": "stream",
     "text": [
      "book_id\n",
      "7260188     0.999588\n",
      "25946645    0.999529\n",
      "17288352    0.999351\n",
      "25017143    0.999267\n",
      "17997707    0.999189\n",
      "              ...   \n",
      "32276945         NaN\n",
      "18294588         NaN\n",
      "23717543         NaN\n",
      "24749917         NaN\n",
      "35213446         NaN\n",
      "Length: 1219371, dtype: float64\n"
     ]
    }
   ],
   "source": [
    "recommendations = content_based_recommendation(book_id, genre_df_copy)"
   ]
  },
  {
   "cell_type": "code",
   "execution_count": 28,
   "metadata": {},
   "outputs": [
    {
     "name": "stdout",
     "output_type": "stream",
     "text": [
      "124858\n"
     ]
    }
   ],
   "source": [
    "# print number of nan values\n",
    "print(recommendations.isnull().sum())\n",
    "print(recommendations.shape)\n"
   ]
  },
  {
   "cell_type": "code",
   "execution_count": 23,
   "metadata": {},
   "outputs": [],
   "source": [
    "# genre_df_copy = map_index_to_key(genre_df_copy)\n",
    "# genre_df_copy.head(10)\n"
   ]
  },
  {
   "cell_type": "code",
   "execution_count": 24,
   "metadata": {},
   "outputs": [],
   "source": [
    "\n",
    "# # check if there are negative values in the dataframe\n",
    "# print(genre_df_copy[genre_df_copy < 0].any(axis=1).any())\n",
    "# genre_df_copy = remove_row_has_negative(genre_df_copy)\n",
    "# print(genre_df_copy[genre_df_copy < 0].any(axis=1).any())\n",
    "# # genre_df_copy.head(10)\n",
    "\n"
   ]
  },
  {
   "cell_type": "code",
   "execution_count": 25,
   "metadata": {},
   "outputs": [],
   "source": [
    "# tf_idf = TF_IDF_matrix(genre_df_copy)\n",
    "# print(tf_idf.shape)\n",
    "# tf_idf.head(7)\n"
   ]
  },
  {
   "cell_type": "code",
   "execution_count": 26,
   "metadata": {},
   "outputs": [],
   "source": [
    "# cosine_matrix = cosine_similarity(book_id, tf_idf)\n",
    "# print(book_id)\n",
    "# print(cosine_matrix[:5])\n",
    "# # 7327624 => 1.217367919\n",
    "# # 6066819 => 0.789\n",
    "# # 287149 => 1.60066\n"
   ]
  },
  {
   "cell_type": "code",
   "execution_count": 27,
   "metadata": {},
   "outputs": [],
   "source": [
    "# book_recommendations = book_recommendations(cosine_matrix)"
   ]
  }
 ],
 "metadata": {
  "kernelspec": {
   "display_name": "base",
   "language": "python",
   "name": "python3"
  },
  "language_info": {
   "codemirror_mode": {
    "name": "ipython",
    "version": 3
   },
   "file_extension": ".py",
   "mimetype": "text/x-python",
   "name": "python",
   "nbconvert_exporter": "python",
   "pygments_lexer": "ipython3",
   "version": "3.9.13"
  },
  "orig_nbformat": 4
 },
 "nbformat": 4,
 "nbformat_minor": 2
}
