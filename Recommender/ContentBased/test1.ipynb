{
 "cells": [
  {
   "cell_type": "code",
   "execution_count": 24,
   "metadata": {},
   "outputs": [
    {
     "name": "stdout",
     "output_type": "stream",
     "text": [
      "The autoreload extension is already loaded. To reload it, use:\n",
      "  %reload_ext autoreload\n"
     ]
    }
   ],
   "source": [
    "import sys\n",
    "sys.path.append(\"../\")\n",
    "\n",
    "from content_based import *\n",
    "%matplotlib inline\n",
    "%load_ext autoreload\n",
    "%autoreload 2\n",
    "%reload_ext autoreload"
   ]
  },
  {
   "cell_type": "code",
   "execution_count": 25,
   "metadata": {},
   "outputs": [
    {
     "data": {
      "text/html": [
       "<div>\n",
       "<style scoped>\n",
       "    .dataframe tbody tr th:only-of-type {\n",
       "        vertical-align: middle;\n",
       "    }\n",
       "\n",
       "    .dataframe tbody tr th {\n",
       "        vertical-align: top;\n",
       "    }\n",
       "\n",
       "    .dataframe thead th {\n",
       "        text-align: right;\n",
       "    }\n",
       "</style>\n",
       "<table border=\"1\" class=\"dataframe\">\n",
       "  <thead>\n",
       "    <tr style=\"text-align: right;\">\n",
       "      <th></th>\n",
       "      <th>book_id</th>\n",
       "      <th>history, historical fiction, biography</th>\n",
       "      <th>fiction</th>\n",
       "      <th>fantasy, paranormal</th>\n",
       "      <th>mystery, thriller, crime</th>\n",
       "      <th>poetry</th>\n",
       "      <th>romance</th>\n",
       "      <th>non-fiction</th>\n",
       "      <th>children</th>\n",
       "      <th>young-adult</th>\n",
       "      <th>comics, graphic</th>\n",
       "    </tr>\n",
       "  </thead>\n",
       "  <tbody>\n",
       "  </tbody>\n",
       "</table>\n",
       "</div>"
      ],
      "text/plain": [
       "Empty DataFrame\n",
       "Columns: [book_id, history, historical fiction, biography, fiction, fantasy, paranormal, mystery, thriller, crime, poetry, romance, non-fiction, children, young-adult, comics, graphic]\n",
       "Index: []"
      ]
     },
     "execution_count": 25,
     "metadata": {},
     "output_type": "execute_result"
    }
   ],
   "source": [
    "# 5333265\n",
    "genre_df = read_data('../Utils/dataset/genres.csv')\n",
    "genre_df.head(10)\n",
    "# find book_id = 0\n",
    "genre_df[genre_df['book_id'] == 0]"
   ]
  },
  {
   "cell_type": "code",
   "execution_count": 26,
   "metadata": {},
   "outputs": [],
   "source": [
    "genre_df_copy = genre_df.copy()"
   ]
  },
  {
   "cell_type": "code",
   "execution_count": 27,
   "metadata": {},
   "outputs": [],
   "source": [
    "books_dict = {\"6148028\": \"4\" , \"2767052\": \"4\", \"4667024\" : \"2\", \"6186357\":\"4\", \"6088007\":\"3\", \"1\": \"5\", \"3\": \"5\"}\n",
    "# get book_ids list as integers\n",
    "books_id_list = list(map(int, books_dict.keys()))"
   ]
  },
  {
   "cell_type": "code",
   "execution_count": 28,
   "metadata": {},
   "outputs": [],
   "source": [
    "# genres_df_subset = create_genres_df_subset(books_id_list, genre_df_copy)\n",
    "# genres_df_subset.head(10)"
   ]
  },
  {
   "cell_type": "code",
   "execution_count": 29,
   "metadata": {},
   "outputs": [
    {
     "name": "stderr",
     "output_type": "stream",
     "text": [
      "c:\\Users\\arwai\\OneDrive\\Documents\\GitHub\\Book-Recommendation-System\\Recommender\\ContentBased\\content_based.py:27: FutureWarning: The frame.append method is deprecated and will be removed from pandas in a future version. Use pandas.concat instead.\n",
      "  genre_df_copy = genre_df_copy.append(new_entry, ignore_index=True)\n"
     ]
    },
    {
     "name": "stdout",
     "output_type": "stream",
     "text": [
      "book_id\n",
      "13519023    0.998779\n",
      "43299       0.996152\n",
      "7260188     0.995526\n",
      "25925784    0.995112\n",
      "2767052     0.995112\n",
      "6696340     0.995010\n",
      "26116440    0.994984\n",
      "12148444    0.994888\n",
      "17183798    0.994874\n",
      "17288352    0.994740\n",
      "25017143    0.994609\n",
      "27414369    0.994589\n",
      "17997707    0.994568\n",
      "25946645    0.994531\n",
      "17455516    0.994479\n",
      "6043849     0.994452\n",
      "33652251    0.994406\n",
      "7540092     0.994280\n",
      "13032025    0.994196\n",
      "16238696    0.994175\n",
      "dtype: float64\n"
     ]
    }
   ],
   "source": [
    "rec_books = rating_matrix_books_via_CB(books_id_list, genre_df_copy, 40)"
   ]
  },
  {
   "cell_type": "code",
   "execution_count": 31,
   "metadata": {},
   "outputs": [
    {
     "name": "stdout",
     "output_type": "stream",
     "text": [
      "Int64Index([13519023,    43299,  7260188, 25925784,  2767052,  6696340,\n",
      "            26116440, 12148444, 17183798, 17288352, 25017143, 27414369,\n",
      "            17997707, 25946645, 17455516,  6043849, 33652251,  7540092,\n",
      "            13032025, 16238696],\n",
      "           dtype='int64', name='book_id')\n"
     ]
    }
   ],
   "source": [
    "print(rec_books.index)"
   ]
  },
  {
   "cell_type": "code",
   "execution_count": null,
   "metadata": {},
   "outputs": [],
   "source": []
  }
 ],
 "metadata": {
  "kernelspec": {
   "display_name": "base",
   "language": "python",
   "name": "python3"
  },
  "language_info": {
   "codemirror_mode": {
    "name": "ipython",
    "version": 3
   },
   "file_extension": ".py",
   "mimetype": "text/x-python",
   "name": "python",
   "nbconvert_exporter": "python",
   "pygments_lexer": "ipython3",
   "version": "3.9.13"
  },
  "orig_nbformat": 4
 },
 "nbformat": 4,
 "nbformat_minor": 2
}
