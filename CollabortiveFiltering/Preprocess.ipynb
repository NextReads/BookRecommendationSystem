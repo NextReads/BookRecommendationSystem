{
 "cells": [
  {
   "cell_type": "code",
   "execution_count": 31,
   "metadata": {},
   "outputs": [],
   "source": [
    "import numpy as np\n",
    "import pandas as pd\n",
    "import matplotlib.pyplot as plt\n",
    "import seaborn as sns\n",
    "\n"
   ]
  },
  {
   "cell_type": "code",
   "execution_count": 32,
   "metadata": {},
   "outputs": [
    {
     "name": "stdout",
     "output_type": "stream",
     "text": [
      "(1000000, 5)\n"
     ]
    },
    {
     "data": {
      "text/html": [
       "<div>\n",
       "<style scoped>\n",
       "    .dataframe tbody tr th:only-of-type {\n",
       "        vertical-align: middle;\n",
       "    }\n",
       "\n",
       "    .dataframe tbody tr th {\n",
       "        vertical-align: top;\n",
       "    }\n",
       "\n",
       "    .dataframe thead th {\n",
       "        text-align: right;\n",
       "    }\n",
       "</style>\n",
       "<table border=\"1\" class=\"dataframe\">\n",
       "  <thead>\n",
       "    <tr style=\"text-align: right;\">\n",
       "      <th></th>\n",
       "      <th>user_id</th>\n",
       "      <th>book_id</th>\n",
       "      <th>review_id</th>\n",
       "      <th>review_text</th>\n",
       "      <th>rating</th>\n",
       "    </tr>\n",
       "  </thead>\n",
       "  <tbody>\n",
       "    <tr>\n",
       "      <th>0</th>\n",
       "      <td>8842281e1d1347389f2ab93d60773d4d</td>\n",
       "      <td>24375664</td>\n",
       "      <td>5cd416f3efc3f944fce4ce2db2290d5e</td>\n",
       "      <td>Mind blowingly cool. Best science fiction I've...</td>\n",
       "      <td>5</td>\n",
       "    </tr>\n",
       "    <tr>\n",
       "      <th>1</th>\n",
       "      <td>8842281e1d1347389f2ab93d60773d4d</td>\n",
       "      <td>18245960</td>\n",
       "      <td>dfdbb7b0eb5a7e4c26d59a937e2e5feb</td>\n",
       "      <td>This is a special book. It started slow for ab...</td>\n",
       "      <td>5</td>\n",
       "    </tr>\n",
       "    <tr>\n",
       "      <th>2</th>\n",
       "      <td>8842281e1d1347389f2ab93d60773d4d</td>\n",
       "      <td>6392944</td>\n",
       "      <td>5e212a62bced17b4dbe41150e5bb9037</td>\n",
       "      <td>I haven't read a fun mystery book in a while a...</td>\n",
       "      <td>3</td>\n",
       "    </tr>\n",
       "    <tr>\n",
       "      <th>3</th>\n",
       "      <td>8842281e1d1347389f2ab93d60773d4d</td>\n",
       "      <td>22078596</td>\n",
       "      <td>fdd13cad0695656be99828cd75d6eb73</td>\n",
       "      <td>Fun, fast paced, and disturbing tale of murder...</td>\n",
       "      <td>4</td>\n",
       "    </tr>\n",
       "    <tr>\n",
       "      <th>4</th>\n",
       "      <td>8842281e1d1347389f2ab93d60773d4d</td>\n",
       "      <td>6644782</td>\n",
       "      <td>bd0df91c9d918c0e433b9ab3a9a5c451</td>\n",
       "      <td>A fun book that gives you a sense of living in...</td>\n",
       "      <td>4</td>\n",
       "    </tr>\n",
       "  </tbody>\n",
       "</table>\n",
       "</div>"
      ],
      "text/plain": [
       "                            user_id   book_id  \\\n",
       "0  8842281e1d1347389f2ab93d60773d4d  24375664   \n",
       "1  8842281e1d1347389f2ab93d60773d4d  18245960   \n",
       "2  8842281e1d1347389f2ab93d60773d4d   6392944   \n",
       "3  8842281e1d1347389f2ab93d60773d4d  22078596   \n",
       "4  8842281e1d1347389f2ab93d60773d4d   6644782   \n",
       "\n",
       "                          review_id  \\\n",
       "0  5cd416f3efc3f944fce4ce2db2290d5e   \n",
       "1  dfdbb7b0eb5a7e4c26d59a937e2e5feb   \n",
       "2  5e212a62bced17b4dbe41150e5bb9037   \n",
       "3  fdd13cad0695656be99828cd75d6eb73   \n",
       "4  bd0df91c9d918c0e433b9ab3a9a5c451   \n",
       "\n",
       "                                         review_text  rating  \n",
       "0  Mind blowingly cool. Best science fiction I've...       5  \n",
       "1  This is a special book. It started slow for ab...       5  \n",
       "2  I haven't read a fun mystery book in a while a...       3  \n",
       "3  Fun, fast paced, and disturbing tale of murder...       4  \n",
       "4  A fun book that gives you a sense of living in...       4  "
      ]
     },
     "execution_count": 32,
     "metadata": {},
     "output_type": "execute_result"
    }
   ],
   "source": [
    "df= pd.read_csv('goodreads_reviews_shrink.csv')\n",
    "print(df.shape)\n",
    "df.head()\n"
   ]
  },
  {
   "cell_type": "code",
   "execution_count": 33,
   "metadata": {},
   "outputs": [
    {
     "data": {
      "text/plain": [
       "user_id          0\n",
       "book_id          0\n",
       "review_id        0\n",
       "review_text    465\n",
       "rating           0\n",
       "dtype: int64"
      ]
     },
     "execution_count": 33,
     "metadata": {},
     "output_type": "execute_result"
    }
   ],
   "source": [
    "df.isnull().sum()"
   ]
  },
  {
   "cell_type": "code",
   "execution_count": 34,
   "metadata": {},
   "outputs": [
    {
     "data": {
      "text/plain": [
       "user_id        0\n",
       "book_id        0\n",
       "review_id      0\n",
       "review_text    0\n",
       "rating         0\n",
       "dtype: int64"
      ]
     },
     "execution_count": 34,
     "metadata": {},
     "output_type": "execute_result"
    }
   ],
   "source": [
    "df = df.dropna(subset=['review_text'])\n",
    "df.isnull().sum()\n"
   ]
  },
  {
   "cell_type": "code",
   "execution_count": 35,
   "metadata": {},
   "outputs": [
    {
     "data": {
      "text/plain": [
       "(999535, 5)"
      ]
     },
     "execution_count": 35,
     "metadata": {},
     "output_type": "execute_result"
    }
   ],
   "source": [
    "df.shape"
   ]
  },
  {
   "cell_type": "code",
   "execution_count": 36,
   "metadata": {},
   "outputs": [
    {
     "name": "stdout",
     "output_type": "stream",
     "text": [
      "number of unique books:  395468\n",
      "number of unique reviews:  999535\n"
     ]
    }
   ],
   "source": [
    "print(\"number of unique books: \", len(df['book_id'].unique()))\n",
    "print(\"number of unique reviews: \", len(df['review_id'].unique()))"
   ]
  },
  {
   "cell_type": "code",
   "execution_count": 37,
   "metadata": {},
   "outputs": [
    {
     "data": {
      "image/png": "[encoded data removed]",
      "text/plain": [
       "<Figure size 576x432 with 1 Axes>"
      ]
     },
     "metadata": {
      "needs_background": "light"
     },
     "output_type": "display_data"
    }
   ],
   "source": [
    "def plotHIST(df, col, xlab, ylab, title):\n",
    "    sns.set_style(\"whitegrid\")\n",
    "    %matplotlib inline\n",
    "    plt.figure(figsize=(8,6))\n",
    "    plt.rc(\"font\", size=15)\n",
    "    df[col].value_counts(sort=True).plot(kind=\"bar\")\n",
    "    plt.xlabel(xlab)\n",
    "    plt.ylabel(ylab)\n",
    "    plt.title(title)\n",
    "    plt.show()\n",
    "\n",
    "plotHIST(df, \"rating\",\"Rating\", \"Count\", \"Rating Distribution\")"
   ]
  },
  {
   "cell_type": "code",
   "execution_count": 38,
   "metadata": {},
   "outputs": [
    {
     "data": {
      "image/png": "[encoded data removed]",
      "text/plain": [
       "<Figure size 576x432 with 1 Axes>"
      ]
     },
     "metadata": {
      "needs_background": "light"
     },
     "output_type": "display_data"
    },
    {
     "data": {
      "text/plain": [
       "4    336260\n",
       "5    334041\n",
       "3    200271\n",
       "2     70641\n",
       "1     29166\n",
       "Name: rating, dtype: int64"
      ]
     },
     "execution_count": 38,
     "metadata": {},
     "output_type": "execute_result"
    }
   ],
   "source": [
    "# remove rows with rating 0 (not rated)\n",
    "df = df[df['rating'] != 0]\n",
    "df.shape\n",
    "\n",
    "plotHIST(df, \"rating\",\"Rating\", \"Count\", \"Rating Distribution\")\n",
    "df['rating'].value_counts()"
   ]
  },
  {
   "cell_type": "code",
   "execution_count": 39,
   "metadata": {},
   "outputs": [
    {
     "data": {
      "text/plain": [
       "11870085    1293\n",
       "2767052      948\n",
       "8442457      725\n",
       "7260188      721\n",
       "22557272     720\n",
       "            ... \n",
       "16193865       1\n",
       "18901793       1\n",
       "18927423       1\n",
       "24967821       1\n",
       "15843480       1\n",
       "Name: book_id, Length: 386266, dtype: int64"
      ]
     },
     "execution_count": 39,
     "metadata": {},
     "output_type": "execute_result"
    }
   ],
   "source": [
    "# showing books\n",
    "df['book_id'].value_counts()"
   ]
  },
  {
   "cell_type": "code",
   "execution_count": 40,
   "metadata": {},
   "outputs": [
    {
     "name": "stdout",
     "output_type": "stream",
     "text": [
      "(157889, 5)\n"
     ]
    },
    {
     "data": {
      "text/plain": [
       "11870085    1293\n",
       "2767052      948\n",
       "8442457      725\n",
       "7260188      721\n",
       "22557272     720\n",
       "            ... \n",
       "20342617      50\n",
       "16101126      50\n",
       "140082        50\n",
       "14743         50\n",
       "16147062      50\n",
       "Name: book_id, Length: 1417, dtype: int64"
      ]
     },
     "execution_count": 40,
     "metadata": {},
     "output_type": "execute_result"
    }
   ],
   "source": [
    "#there are books that have been rated only once\n",
    "# SHRINKING THE DATASET BY REMOVING BOOKS THAT HAVE BEEN RATED LESS THAN 100 TIMES\n",
    "counts = df['book_id'].value_counts()\n",
    "df = df[df['book_id'].isin(counts[counts >= 50].index)]\n",
    "print(df.shape)\n",
    "df['book_id'].value_counts()"
   ]
  },
  {
   "cell_type": "code",
   "execution_count": 41,
   "metadata": {},
   "outputs": [
    {
     "data": {
      "text/plain": [
       "8e7e5b546a63cb9add8431ee6914cf59    273\n",
       "c4f655f2ed79599a9259d7762313f3f3    263\n",
       "b9c0d56438ee6342288737820c9cdcbf    239\n",
       "08d805375530cc208801531ca7fdefbc    229\n",
       "414d7ea1693ad9479b30c7c987a5f66b    220\n",
       "                                   ... \n",
       "3111c6968e7bb3d1853fb12e9364ea69      1\n",
       "8d7eebd66d43ab4c4c4efdf795c9e0bf      1\n",
       "4ce688b2c0701649235983d2bb16ab90      1\n",
       "4e4632eb54cfb1c5f2a699f6c54c1ef1      1\n",
       "3fd461546a279bff6da8ef5a9df45da0      1\n",
       "Name: user_id, Length: 15020, dtype: int64"
      ]
     },
     "execution_count": 41,
     "metadata": {},
     "output_type": "execute_result"
    }
   ],
   "source": [
    "df['user_id'].value_counts()"
   ]
  },
  {
   "cell_type": "code",
   "execution_count": 42,
   "metadata": {},
   "outputs": [
    {
     "name": "stdout",
     "output_type": "stream",
     "text": [
      "(123692, 5)\n"
     ]
    },
    {
     "data": {
      "text/plain": [
       "8e7e5b546a63cb9add8431ee6914cf59    273\n",
       "c4f655f2ed79599a9259d7762313f3f3    263\n",
       "b9c0d56438ee6342288737820c9cdcbf    239\n",
       "08d805375530cc208801531ca7fdefbc    229\n",
       "414d7ea1693ad9479b30c7c987a5f66b    220\n",
       "                                   ... \n",
       "0222a127a23e48a309e362cfa4533933     10\n",
       "3631de43c987d9af6b19ae47432705bb     10\n",
       "8a4d6da65fc59a93345dddae65869510     10\n",
       "033f8ea561f511d5a7a1193007e539a3     10\n",
       "f131126e97b09f87010f4d419391ee9f     10\n",
       "Name: user_id, Length: 4260, dtype: int64"
      ]
     },
     "execution_count": 42,
     "metadata": {},
     "output_type": "execute_result"
    }
   ],
   "source": [
    "# there are users that have rated only once\n",
    "# SHRINKING THE DATASET BY REMOVING USERS THAT HAVE RATED LESS THAN 10 TIMES\n",
    "counts = df[\"user_id\"].value_counts()\n",
    "df = df[df[\"user_id\"].isin(counts[counts >= 10].index)]\n",
    "print(df.shape)\n",
    "df[\"user_id\"].value_counts()"
   ]
  },
  {
   "cell_type": "code",
   "execution_count": 43,
   "metadata": {},
   "outputs": [
    {
     "name": "stdout",
     "output_type": "stream",
     "text": [
      "(123692, 5)\n"
     ]
    },
    {
     "data": {
      "text/html": [
       "<div>\n",
       "<style scoped>\n",
       "    .dataframe tbody tr th:only-of-type {\n",
       "        vertical-align: middle;\n",
       "    }\n",
       "\n",
       "    .dataframe tbody tr th {\n",
       "        vertical-align: top;\n",
       "    }\n",
       "\n",
       "    .dataframe thead th {\n",
       "        text-align: right;\n",
       "    }\n",
       "</style>\n",
       "<table border=\"1\" class=\"dataframe\">\n",
       "  <thead>\n",
       "    <tr style=\"text-align: right;\">\n",
       "      <th></th>\n",
       "      <th>user_id</th>\n",
       "      <th>book_id</th>\n",
       "      <th>review_id</th>\n",
       "      <th>review_text</th>\n",
       "      <th>rating</th>\n",
       "    </tr>\n",
       "  </thead>\n",
       "  <tbody>\n",
       "    <tr>\n",
       "      <th>28</th>\n",
       "      <td>8842281e1d1347389f2ab93d60773d4d</td>\n",
       "      <td>22318578</td>\n",
       "      <td>5fe9882bfe4b0520a322820c4c55747d</td>\n",
       "      <td>5 stars for giving me a better framework for h...</td>\n",
       "      <td>5</td>\n",
       "    </tr>\n",
       "    <tr>\n",
       "      <th>30</th>\n",
       "      <td>8842281e1d1347389f2ab93d60773d4d</td>\n",
       "      <td>22551730</td>\n",
       "      <td>754710070f38e1c59a45f6a85473b836</td>\n",
       "      <td>Another hard to put down nonfiction book from ...</td>\n",
       "      <td>4</td>\n",
       "    </tr>\n",
       "    <tr>\n",
       "      <th>31</th>\n",
       "      <td>8842281e1d1347389f2ab93d60773d4d</td>\n",
       "      <td>22816087</td>\n",
       "      <td>d11954e6e9e9ddf52aed41d83ce43fa6</td>\n",
       "      <td>I love Stephenson - and this was another hit -...</td>\n",
       "      <td>5</td>\n",
       "    </tr>\n",
       "    <tr>\n",
       "      <th>47</th>\n",
       "      <td>8842281e1d1347389f2ab93d60773d4d</td>\n",
       "      <td>5064</td>\n",
       "      <td>da4757c50c0edb081ca124d33db8186b</td>\n",
       "      <td>I tore through The Pillars of the Earth, and c...</td>\n",
       "      <td>5</td>\n",
       "    </tr>\n",
       "    <tr>\n",
       "      <th>54</th>\n",
       "      <td>8842281e1d1347389f2ab93d60773d4d</td>\n",
       "      <td>13526165</td>\n",
       "      <td>51fe3e46c7f8eb39f5623d1bd8bbbbfc</td>\n",
       "      <td>My wife suggested I read this book, and I resi...</td>\n",
       "      <td>5</td>\n",
       "    </tr>\n",
       "  </tbody>\n",
       "</table>\n",
       "</div>"
      ],
      "text/plain": [
       "                             user_id   book_id  \\\n",
       "28  8842281e1d1347389f2ab93d60773d4d  22318578   \n",
       "30  8842281e1d1347389f2ab93d60773d4d  22551730   \n",
       "31  8842281e1d1347389f2ab93d60773d4d  22816087   \n",
       "47  8842281e1d1347389f2ab93d60773d4d      5064   \n",
       "54  8842281e1d1347389f2ab93d60773d4d  13526165   \n",
       "\n",
       "                           review_id  \\\n",
       "28  5fe9882bfe4b0520a322820c4c55747d   \n",
       "30  754710070f38e1c59a45f6a85473b836   \n",
       "31  d11954e6e9e9ddf52aed41d83ce43fa6   \n",
       "47  da4757c50c0edb081ca124d33db8186b   \n",
       "54  51fe3e46c7f8eb39f5623d1bd8bbbbfc   \n",
       "\n",
       "                                          review_text  rating  \n",
       "28  5 stars for giving me a better framework for h...       5  \n",
       "30  Another hard to put down nonfiction book from ...       4  \n",
       "31  I love Stephenson - and this was another hit -...       5  \n",
       "47  I tore through The Pillars of the Earth, and c...       5  \n",
       "54  My wife suggested I read this book, and I resi...       5  "
      ]
     },
     "execution_count": 43,
     "metadata": {},
     "output_type": "execute_result"
    }
   ],
   "source": [
    "print(df.shape)\n",
    "df.head()\n"
   ]
  },
  {
   "cell_type": "code",
   "execution_count": 45,
   "metadata": {},
   "outputs": [
    {
     "name": "stdout",
     "output_type": "stream",
     "text": [
      "Number of unique users:  4260\n",
      "Number of unique books:  1417\n"
     ]
    }
   ],
   "source": [
    "#number of unique users and books\n",
    "print(\"Number of unique users: \", df[\"user_id\"].nunique())\n",
    "print(\"Number of unique books: \", df[\"book_id\"].nunique())"
   ]
  },
  {
   "cell_type": "code",
   "execution_count": 46,
   "metadata": {},
   "outputs": [],
   "source": [
    "df.to_csv(\"data_top.csv\", index=False)"
   ]
  },
  {
   "cell_type": "code",
   "execution_count": 47,
   "metadata": {},
   "outputs": [
    {
     "name": "stdout",
     "output_type": "stream",
     "text": [
      "(4260, 1417)\n"
     ]
    },
    {
     "data": {
      "text/html": [
       "<div>\n",
       "<style scoped>\n",
       "    .dataframe tbody tr th:only-of-type {\n",
       "        vertical-align: middle;\n",
       "    }\n",
       "\n",
       "    .dataframe tbody tr th {\n",
       "        vertical-align: top;\n",
       "    }\n",
       "\n",
       "    .dataframe thead th {\n",
       "        text-align: right;\n",
       "    }\n",
       "</style>\n",
       "<table border=\"1\" class=\"dataframe\">\n",
       "  <thead>\n",
       "    <tr style=\"text-align: right;\">\n",
       "      <th>book_id</th>\n",
       "      <th>1</th>\n",
       "      <th>2</th>\n",
       "      <th>3</th>\n",
       "      <th>5</th>\n",
       "      <th>6</th>\n",
       "      <th>11</th>\n",
       "      <th>21</th>\n",
       "      <th>33</th>\n",
       "      <th>34</th>\n",
       "      <th>152</th>\n",
       "      <th>...</th>\n",
       "      <th>29906980</th>\n",
       "      <th>29939230</th>\n",
       "      <th>30253864</th>\n",
       "      <th>30312891</th>\n",
       "      <th>30555488</th>\n",
       "      <th>30653853</th>\n",
       "      <th>30688435</th>\n",
       "      <th>31434883</th>\n",
       "      <th>32075671</th>\n",
       "      <th>33151805</th>\n",
       "    </tr>\n",
       "    <tr>\n",
       "      <th>user_id</th>\n",
       "      <th></th>\n",
       "      <th></th>\n",
       "      <th></th>\n",
       "      <th></th>\n",
       "      <th></th>\n",
       "      <th></th>\n",
       "      <th></th>\n",
       "      <th></th>\n",
       "      <th></th>\n",
       "      <th></th>\n",
       "      <th></th>\n",
       "      <th></th>\n",
       "      <th></th>\n",
       "      <th></th>\n",
       "      <th></th>\n",
       "      <th></th>\n",
       "      <th></th>\n",
       "      <th></th>\n",
       "      <th></th>\n",
       "      <th></th>\n",
       "      <th></th>\n",
       "    </tr>\n",
       "  </thead>\n",
       "  <tbody>\n",
       "    <tr>\n",
       "      <th>00254cd48d3d8a99ca9f0ed44fa69d5f</th>\n",
       "      <td>NaN</td>\n",
       "      <td>NaN</td>\n",
       "      <td>NaN</td>\n",
       "      <td>NaN</td>\n",
       "      <td>NaN</td>\n",
       "      <td>NaN</td>\n",
       "      <td>NaN</td>\n",
       "      <td>NaN</td>\n",
       "      <td>NaN</td>\n",
       "      <td>NaN</td>\n",
       "      <td>...</td>\n",
       "      <td>NaN</td>\n",
       "      <td>NaN</td>\n",
       "      <td>NaN</td>\n",
       "      <td>NaN</td>\n",
       "      <td>NaN</td>\n",
       "      <td>NaN</td>\n",
       "      <td>NaN</td>\n",
       "      <td>NaN</td>\n",
       "      <td>NaN</td>\n",
       "      <td>NaN</td>\n",
       "    </tr>\n",
       "    <tr>\n",
       "      <th>0028b5eebf06b43b321671ea39e7ca3c</th>\n",
       "      <td>NaN</td>\n",
       "      <td>NaN</td>\n",
       "      <td>NaN</td>\n",
       "      <td>NaN</td>\n",
       "      <td>NaN</td>\n",
       "      <td>NaN</td>\n",
       "      <td>NaN</td>\n",
       "      <td>NaN</td>\n",
       "      <td>NaN</td>\n",
       "      <td>NaN</td>\n",
       "      <td>...</td>\n",
       "      <td>NaN</td>\n",
       "      <td>NaN</td>\n",
       "      <td>NaN</td>\n",
       "      <td>NaN</td>\n",
       "      <td>NaN</td>\n",
       "      <td>NaN</td>\n",
       "      <td>NaN</td>\n",
       "      <td>NaN</td>\n",
       "      <td>NaN</td>\n",
       "      <td>4.0</td>\n",
       "    </tr>\n",
       "    <tr>\n",
       "      <th>003b4e8b12a17f343186e981a26edc74</th>\n",
       "      <td>NaN</td>\n",
       "      <td>NaN</td>\n",
       "      <td>NaN</td>\n",
       "      <td>NaN</td>\n",
       "      <td>NaN</td>\n",
       "      <td>NaN</td>\n",
       "      <td>NaN</td>\n",
       "      <td>NaN</td>\n",
       "      <td>NaN</td>\n",
       "      <td>NaN</td>\n",
       "      <td>...</td>\n",
       "      <td>NaN</td>\n",
       "      <td>NaN</td>\n",
       "      <td>NaN</td>\n",
       "      <td>NaN</td>\n",
       "      <td>NaN</td>\n",
       "      <td>NaN</td>\n",
       "      <td>NaN</td>\n",
       "      <td>NaN</td>\n",
       "      <td>NaN</td>\n",
       "      <td>NaN</td>\n",
       "    </tr>\n",
       "    <tr>\n",
       "      <th>004d5e96c8a318aeb006af50f8cc949c</th>\n",
       "      <td>NaN</td>\n",
       "      <td>NaN</td>\n",
       "      <td>NaN</td>\n",
       "      <td>NaN</td>\n",
       "      <td>NaN</td>\n",
       "      <td>NaN</td>\n",
       "      <td>NaN</td>\n",
       "      <td>NaN</td>\n",
       "      <td>NaN</td>\n",
       "      <td>NaN</td>\n",
       "      <td>...</td>\n",
       "      <td>5.0</td>\n",
       "      <td>NaN</td>\n",
       "      <td>NaN</td>\n",
       "      <td>NaN</td>\n",
       "      <td>2.0</td>\n",
       "      <td>NaN</td>\n",
       "      <td>NaN</td>\n",
       "      <td>5.0</td>\n",
       "      <td>5.0</td>\n",
       "      <td>NaN</td>\n",
       "    </tr>\n",
       "    <tr>\n",
       "      <th>004f6d189c4546a39db2162986c0d9e1</th>\n",
       "      <td>NaN</td>\n",
       "      <td>NaN</td>\n",
       "      <td>NaN</td>\n",
       "      <td>NaN</td>\n",
       "      <td>NaN</td>\n",
       "      <td>NaN</td>\n",
       "      <td>NaN</td>\n",
       "      <td>NaN</td>\n",
       "      <td>NaN</td>\n",
       "      <td>NaN</td>\n",
       "      <td>...</td>\n",
       "      <td>4.0</td>\n",
       "      <td>NaN</td>\n",
       "      <td>NaN</td>\n",
       "      <td>NaN</td>\n",
       "      <td>NaN</td>\n",
       "      <td>NaN</td>\n",
       "      <td>NaN</td>\n",
       "      <td>NaN</td>\n",
       "      <td>NaN</td>\n",
       "      <td>NaN</td>\n",
       "    </tr>\n",
       "  </tbody>\n",
       "</table>\n",
       "<p>5 rows × 1417 columns</p>\n",
       "</div>"
      ],
      "text/plain": [
       "book_id                           1         2         3         5         \\\n",
       "user_id                                                                    \n",
       "00254cd48d3d8a99ca9f0ed44fa69d5f       NaN       NaN       NaN       NaN   \n",
       "0028b5eebf06b43b321671ea39e7ca3c       NaN       NaN       NaN       NaN   \n",
       "003b4e8b12a17f343186e981a26edc74       NaN       NaN       NaN       NaN   \n",
       "004d5e96c8a318aeb006af50f8cc949c       NaN       NaN       NaN       NaN   \n",
       "004f6d189c4546a39db2162986c0d9e1       NaN       NaN       NaN       NaN   \n",
       "\n",
       "book_id                           6         11        21        33        \\\n",
       "user_id                                                                    \n",
       "00254cd48d3d8a99ca9f0ed44fa69d5f       NaN       NaN       NaN       NaN   \n",
       "0028b5eebf06b43b321671ea39e7ca3c       NaN       NaN       NaN       NaN   \n",
       "003b4e8b12a17f343186e981a26edc74       NaN       NaN       NaN       NaN   \n",
       "004d5e96c8a318aeb006af50f8cc949c       NaN       NaN       NaN       NaN   \n",
       "004f6d189c4546a39db2162986c0d9e1       NaN       NaN       NaN       NaN   \n",
       "\n",
       "book_id                           34        152       ...  29906980  29939230  \\\n",
       "user_id                                               ...                       \n",
       "00254cd48d3d8a99ca9f0ed44fa69d5f       NaN       NaN  ...       NaN       NaN   \n",
       "0028b5eebf06b43b321671ea39e7ca3c       NaN       NaN  ...       NaN       NaN   \n",
       "003b4e8b12a17f343186e981a26edc74       NaN       NaN  ...       NaN       NaN   \n",
       "004d5e96c8a318aeb006af50f8cc949c       NaN       NaN  ...       5.0       NaN   \n",
       "004f6d189c4546a39db2162986c0d9e1       NaN       NaN  ...       4.0       NaN   \n",
       "\n",
       "book_id                           30253864  30312891  30555488  30653853  \\\n",
       "user_id                                                                    \n",
       "00254cd48d3d8a99ca9f0ed44fa69d5f       NaN       NaN       NaN       NaN   \n",
       "0028b5eebf06b43b321671ea39e7ca3c       NaN       NaN       NaN       NaN   \n",
       "003b4e8b12a17f343186e981a26edc74       NaN       NaN       NaN       NaN   \n",
       "004d5e96c8a318aeb006af50f8cc949c       NaN       NaN       2.0       NaN   \n",
       "004f6d189c4546a39db2162986c0d9e1       NaN       NaN       NaN       NaN   \n",
       "\n",
       "book_id                           30688435  31434883  32075671  33151805  \n",
       "user_id                                                                   \n",
       "00254cd48d3d8a99ca9f0ed44fa69d5f       NaN       NaN       NaN       NaN  \n",
       "0028b5eebf06b43b321671ea39e7ca3c       NaN       NaN       NaN       4.0  \n",
       "003b4e8b12a17f343186e981a26edc74       NaN       NaN       NaN       NaN  \n",
       "004d5e96c8a318aeb006af50f8cc949c       NaN       5.0       5.0       NaN  \n",
       "004f6d189c4546a39db2162986c0d9e1       NaN       NaN       NaN       NaN  \n",
       "\n",
       "[5 rows x 1417 columns]"
      ]
     },
     "execution_count": 47,
     "metadata": {},
     "output_type": "execute_result"
    }
   ],
   "source": [
    "# CREATING USER-ITEM MATRIX\n",
    "userBookRating = df.pivot_table(index=[\"user_id\"], columns=[\"book_id\"], values=\"rating\")\n",
    "print(userBookRating.shape)\n",
    "userBookRating.head()"
   ]
  }
 ],
 "metadata": {
  "kernelspec": {
   "display_name": "base",
   "language": "python",
   "name": "python3"
  },
  "language_info": {
   "codemirror_mode": {
    "name": "ipython",
    "version": 3
   },
   "file_extension": ".py",
   "mimetype": "text/x-python",
   "name": "python",
   "nbconvert_exporter": "python",
   "pygments_lexer": "ipython3",
   "version": "3.9.12"
  },
  "orig_nbformat": 4,
  "vscode": {
   "interpreter": {
    "hash": "e38108df49438cb65175471cf6b392c290e4240117ce34c049d7d62b2b12af8a"
   }
  }
 },
 "nbformat": 4,
 "nbformat_minor": 2
}
